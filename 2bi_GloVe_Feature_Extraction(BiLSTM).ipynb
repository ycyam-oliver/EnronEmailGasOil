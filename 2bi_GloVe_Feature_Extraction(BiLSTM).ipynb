{
 "cells": [
  {
   "cell_type": "code",
   "execution_count": 1,
   "id": "d8a2580c",
   "metadata": {},
   "outputs": [],
   "source": [
    "import os\n",
    "import numpy as np\n",
    "import pandas as pd\n",
    "import re\n",
    "\n",
    "# from sklearn import metrics\n",
    "import matplotlib.pyplot as plt\n",
    "import seaborn as sns\n",
    "\n",
    "import tensorflow as tf\n",
    "import tensorflow_datasets as tfds\n",
    "from tensorflow.keras.preprocessing import sequence\n",
    "from sklearn import metrics\n",
    "\n",
    "from tensorflow.keras.callbacks import Callback, ModelCheckpoint\n",
    "from tensorflow.keras.callbacks import LearningRateScheduler\n"
   ]
  },
  {
   "cell_type": "code",
   "execution_count": 2,
   "id": "155cc33e",
   "metadata": {},
   "outputs": [],
   "source": [
    "# import train/val/test data from the data exploration part\n",
    "\n",
    "data_prep=np.load('data_prep.npz',allow_pickle=True)\n",
    "train_text,train_label=data_prep['train_text'],data_prep['train_label']\n",
    "val_text,val_label=data_prep['val_text'],data_prep['val_label']\n",
    "test_text,test_label=data_prep['test_text'],data_prep['test_label']\n",
    "voca_set=data_prep['voca_set'].tolist()\n",
    "\n",
    "# define encoder and tokenizer\n",
    "tokenizer=tfds.deprecated.text.Tokenizer()\n",
    "encoder=tfds.deprecated.text.TokenTextEncoder(\n",
    "    voca_set,tokenizer=tokenizer)"
   ]
  },
  {
   "cell_type": "markdown",
   "id": "995b7ca6",
   "metadata": {},
   "source": [
    "# 1. Pre-trained GloVe embeddings"
   ]
  },
  {
   "cell_type": "code",
   "execution_count": 3,
   "id": "ee4968fc",
   "metadata": {},
   "outputs": [
    {
     "name": "stdout",
     "output_type": "stream",
     "text": [
      "Dictionary size is  400000\n"
     ]
    }
   ],
   "source": [
    "# load the GloVe embeddings\n",
    "\n",
    "dict_w2v={}\n",
    "\n",
    "with open('GloVe_dict/glove.6B/glove.6B.50d.txt','r',encoding=\"utf8\") as file:\n",
    "    for line in file:\n",
    "        tokens=line.split()\n",
    "        word=tokens[0]\n",
    "        vector=np.array(tokens[1:],dtype=np.float32)\n",
    "        \n",
    "        if vector.shape[0]==50:\n",
    "            dict_w2v[word]=vector\n",
    "        else:\n",
    "            print('Error with '+word)\n",
    "print('Dictionary size is ', len(dict_w2v))"
   ]
  },
  {
   "cell_type": "code",
   "execution_count": 4,
   "id": "81db1ef1",
   "metadata": {},
   "outputs": [],
   "source": [
    "# a matrix relating the vocas in our text set to the GloVe dict\n",
    "\n",
    "embedding_dim=50\n",
    "\n",
    "embedding_matrix=np.zeros((encoder.vocab_size,embedding_dim))\n",
    "\n",
    "for word in encoder.tokens:\n",
    "    embedding_vec=dict_w2v.get(word)\n",
    "    \n",
    "    if embedding_vec is not None:\n",
    "        tkn_id=encoder.encode(word)[0]\n",
    "        embedding_matrix[tkn_id]=embedding_vec\n",
    "        "
   ]
  },
  {
   "cell_type": "markdown",
   "id": "ff9644bb",
   "metadata": {},
   "source": [
    "# 2. Feature Extraction Model (BiLSTM)"
   ]
  },
  {
   "cell_type": "code",
   "execution_count": 5,
   "id": "bb7d2404",
   "metadata": {},
   "outputs": [],
   "source": [
    "def LSTM_model(\n",
    "    voca_size,embedding_dim,rnn_units,batch_size,train_emb=False):\n",
    "    \n",
    "    model=tf.keras.Sequential([\n",
    "        tf.keras.layers.Embedding(voca_size,embedding_dim,\n",
    "                                  mask_zero=True,\n",
    "                                  weights=[embedding_matrix],\n",
    "                                  trainable=train_emb),\n",
    "        tf.keras.layers.Bidirectional(\n",
    "            tf.keras.layers.LSTM(rnn_units,dropout=0.25)),\n",
    "        tf.keras.layers.Dense(1,activation='sigmoid')\n",
    "    ])\n",
    "    return model\n",
    "    "
   ]
  },
  {
   "cell_type": "code",
   "execution_count": 6,
   "id": "32b4bdbd",
   "metadata": {
    "scrolled": true
   },
   "outputs": [
    {
     "name": "stdout",
     "output_type": "stream",
     "text": [
      "Model: \"sequential\"\n",
      "_________________________________________________________________\n",
      " Layer (type)                Output Shape              Param #   \n",
      "=================================================================\n",
      " embedding (Embedding)       (None, None, 50)          5542800   \n",
      "                                                                 \n",
      " bidirectional (Bidirectiona  (None, 128)              58880     \n",
      " l)                                                              \n",
      "                                                                 \n",
      " dense (Dense)               (None, 1)                 129       \n",
      "                                                                 \n",
      "=================================================================\n",
      "Total params: 5,601,809\n",
      "Trainable params: 59,009\n",
      "Non-trainable params: 5,542,800\n",
      "_________________________________________________________________\n"
     ]
    }
   ],
   "source": [
    "# length of vocas in chars\n",
    "voca_size=encoder.vocab_size\n",
    "\n",
    "# number of RNN units\n",
    "rnn_units=64\n",
    "\n",
    "# batch size\n",
    "batch_size=100\n",
    "\n",
    "model=LSTM_model(\n",
    "    voca_size=voca_size,\n",
    "    embedding_dim=embedding_dim,\n",
    "    rnn_units=rnn_units,\n",
    "    batch_size=batch_size)\n",
    "\n",
    "model.summary()"
   ]
  },
  {
   "cell_type": "code",
   "execution_count": 7,
   "id": "06441042",
   "metadata": {
    "scrolled": true
   },
   "outputs": [
    {
     "name": "stdout",
     "output_type": "stream",
     "text": [
      "Epoch 1/20\n",
      "698/700 [============================>.] - ETA: 0s - loss: 0.5506 - accuracy: 0.7288 - precision: 0.7189 - recall: 0.5515\n",
      "Epoch 00001: val_loss improved from inf to 0.49255, saving model to model_param\\GloVe_Feature_Extraction.h5\n",
      "700/700 [==============================] - 81s 110ms/step - loss: 0.5506 - accuracy: 0.7288 - precision: 0.7188 - recall: 0.5518 - val_loss: 0.4925 - val_accuracy: 0.7735 - val_precision: 0.7505 - val_recall: 0.6857\n",
      "Epoch 2/20\n",
      "697/700 [============================>.] - ETA: 0s - loss: 0.4696 - accuracy: 0.7805 - precision: 0.7950 - recall: 0.6231\n",
      "Epoch 00002: val_loss improved from 0.49255 to 0.43388, saving model to model_param\\GloVe_Feature_Extraction.h5\n",
      "700/700 [==============================] - 68s 97ms/step - loss: 0.4694 - accuracy: 0.7806 - precision: 0.7951 - recall: 0.6235 - val_loss: 0.4339 - val_accuracy: 0.7992 - val_precision: 0.8017 - val_recall: 0.6898\n",
      "Epoch 3/20\n",
      "700/700 [==============================] - ETA: 0s - loss: 0.4320 - accuracy: 0.8030 - precision: 0.8228 - recall: 0.6599\n",
      "Epoch 00003: val_loss improved from 0.43388 to 0.40811, saving model to model_param\\GloVe_Feature_Extraction.h5\n",
      "700/700 [==============================] - 71s 101ms/step - loss: 0.4320 - accuracy: 0.8030 - precision: 0.8228 - recall: 0.6599 - val_loss: 0.4081 - val_accuracy: 0.8193 - val_precision: 0.8570 - val_recall: 0.6810\n",
      "Epoch 4/20\n",
      "700/700 [==============================] - ETA: 0s - loss: 0.4058 - accuracy: 0.8167 - precision: 0.8430 - recall: 0.6772\n",
      "Epoch 00004: val_loss improved from 0.40811 to 0.39085, saving model to model_param\\GloVe_Feature_Extraction.h5\n",
      "700/700 [==============================] - 70s 100ms/step - loss: 0.4058 - accuracy: 0.8167 - precision: 0.8430 - recall: 0.6772 - val_loss: 0.3909 - val_accuracy: 0.8231 - val_precision: 0.8176 - val_recall: 0.7420\n",
      "Epoch 5/20\n",
      "698/700 [============================>.] - ETA: 0s - loss: 0.3873 - accuracy: 0.8267 - precision: 0.8552 - recall: 0.6931\n",
      "Epoch 00005: val_loss improved from 0.39085 to 0.37727, saving model to model_param\\GloVe_Feature_Extraction.h5\n",
      "700/700 [==============================] - 66s 94ms/step - loss: 0.3874 - accuracy: 0.8266 - precision: 0.8550 - recall: 0.6930 - val_loss: 0.3773 - val_accuracy: 0.8349 - val_precision: 0.8600 - val_recall: 0.7221\n",
      "Epoch 6/20\n",
      "698/700 [============================>.] - ETA: 0s - loss: 0.3747 - accuracy: 0.8320 - precision: 0.8623 - recall: 0.7004\n",
      "Epoch 00006: val_loss improved from 0.37727 to 0.36530, saving model to model_param\\GloVe_Feature_Extraction.h5\n",
      "700/700 [==============================] - 72s 102ms/step - loss: 0.3746 - accuracy: 0.8321 - precision: 0.8624 - recall: 0.7007 - val_loss: 0.3653 - val_accuracy: 0.8419 - val_precision: 0.8750 - val_recall: 0.7251\n",
      "Epoch 7/20\n",
      "697/700 [============================>.] - ETA: 0s - loss: 0.3605 - accuracy: 0.8406 - precision: 0.8737 - recall: 0.7130\n",
      "Epoch 00007: val_loss improved from 0.36530 to 0.36220, saving model to model_param\\GloVe_Feature_Extraction.h5\n",
      "700/700 [==============================] - 68s 96ms/step - loss: 0.3606 - accuracy: 0.8406 - precision: 0.8737 - recall: 0.7127 - val_loss: 0.3622 - val_accuracy: 0.8453 - val_precision: 0.9174 - val_recall: 0.6917\n",
      "Epoch 8/20\n",
      "700/700 [==============================] - ETA: 0s - loss: 0.3510 - accuracy: 0.8473 - precision: 0.8799 - recall: 0.7251\n",
      "Epoch 00008: val_loss improved from 0.36220 to 0.35564, saving model to model_param\\GloVe_Feature_Extraction.h5\n",
      "700/700 [==============================] - 71s 102ms/step - loss: 0.3510 - accuracy: 0.8473 - precision: 0.8799 - recall: 0.7251 - val_loss: 0.3556 - val_accuracy: 0.8453 - val_precision: 0.9313 - val_recall: 0.6798\n",
      "Epoch 9/20\n",
      "700/700 [==============================] - ETA: 0s - loss: 0.3444 - accuracy: 0.8494 - precision: 0.8823 - recall: 0.7285\n",
      "Epoch 00009: val_loss improved from 0.35564 to 0.35385, saving model to model_param\\GloVe_Feature_Extraction.h5\n",
      "700/700 [==============================] - 69s 99ms/step - loss: 0.3444 - accuracy: 0.8494 - precision: 0.8823 - recall: 0.7285 - val_loss: 0.3538 - val_accuracy: 0.8407 - val_precision: 0.8426 - val_recall: 0.7607\n",
      "Epoch 10/20\n",
      "697/700 [============================>.] - ETA: 0s - loss: 0.3334 - accuracy: 0.8552 - precision: 0.8884 - recall: 0.7382\n",
      "Epoch 00010: val_loss improved from 0.35385 to 0.35374, saving model to model_param\\GloVe_Feature_Extraction.h5\n",
      "700/700 [==============================] - 69s 99ms/step - loss: 0.3333 - accuracy: 0.8553 - precision: 0.8884 - recall: 0.7384 - val_loss: 0.3537 - val_accuracy: 0.8434 - val_precision: 0.8265 - val_recall: 0.7910\n",
      "Epoch 11/20\n",
      "699/700 [============================>.] - ETA: 0s - loss: 0.3264 - accuracy: 0.8579 - precision: 0.8873 - recall: 0.7470\n",
      "Epoch 00011: val_loss improved from 0.35374 to 0.33947, saving model to model_param\\GloVe_Feature_Extraction.h5\n",
      "700/700 [==============================] - 71s 102ms/step - loss: 0.3264 - accuracy: 0.8580 - precision: 0.8874 - recall: 0.7471 - val_loss: 0.3395 - val_accuracy: 0.8542 - val_precision: 0.8890 - val_recall: 0.7438\n",
      "Epoch 12/20\n",
      "698/700 [============================>.] - ETA: 0s - loss: 0.3192 - accuracy: 0.8613 - precision: 0.8900 - recall: 0.7535\n",
      "Epoch 00012: val_loss improved from 0.33947 to 0.33736, saving model to model_param\\GloVe_Feature_Extraction.h5\n",
      "700/700 [==============================] - 68s 98ms/step - loss: 0.3192 - accuracy: 0.8612 - precision: 0.8899 - recall: 0.7534 - val_loss: 0.3374 - val_accuracy: 0.8577 - val_precision: 0.9102 - val_recall: 0.7315\n",
      "Epoch 13/20\n",
      "700/700 [==============================] - ETA: 0s - loss: 0.3120 - accuracy: 0.8644 - precision: 0.8929 - recall: 0.7589\n",
      "Epoch 00013: val_loss did not improve from 0.33736\n",
      "700/700 [==============================] - 68s 98ms/step - loss: 0.3120 - accuracy: 0.8644 - precision: 0.8929 - recall: 0.7589 - val_loss: 0.3379 - val_accuracy: 0.8573 - val_precision: 0.9260 - val_recall: 0.7154\n",
      "Epoch 14/20\n",
      "700/700 [==============================] - ETA: 0s - loss: 0.3077 - accuracy: 0.8668 - precision: 0.8931 - recall: 0.7653\n",
      "Epoch 00014: val_loss improved from 0.33736 to 0.33086, saving model to model_param\\GloVe_Feature_Extraction.h5\n",
      "700/700 [==============================] - 71s 101ms/step - loss: 0.3077 - accuracy: 0.8668 - precision: 0.8931 - recall: 0.7653 - val_loss: 0.3309 - val_accuracy: 0.8572 - val_precision: 0.8787 - val_recall: 0.7634\n",
      "Epoch 15/20\n",
      "699/700 [============================>.] - ETA: 0s - loss: 0.3010 - accuracy: 0.8707 - precision: 0.8961 - recall: 0.7730\n",
      "Epoch 00015: val_loss improved from 0.33086 to 0.32596, saving model to model_param\\GloVe_Feature_Extraction.h5\n",
      "700/700 [==============================] - 71s 101ms/step - loss: 0.3012 - accuracy: 0.8707 - precision: 0.8962 - recall: 0.7729 - val_loss: 0.3260 - val_accuracy: 0.8635 - val_precision: 0.8864 - val_recall: 0.7722\n",
      "Epoch 16/20\n",
      "700/700 [==============================] - ETA: 0s - loss: 0.2960 - accuracy: 0.8729 - precision: 0.8964 - recall: 0.7789\n",
      "Epoch 00016: val_loss did not improve from 0.32596\n",
      "700/700 [==============================] - 67s 97ms/step - loss: 0.2960 - accuracy: 0.8729 - precision: 0.8964 - recall: 0.7789 - val_loss: 0.3281 - val_accuracy: 0.8644 - val_precision: 0.9044 - val_recall: 0.7551\n",
      "Epoch 17/20\n",
      "699/700 [============================>.] - ETA: 0s - loss: 0.2890 - accuracy: 0.8771 - precision: 0.9027 - recall: 0.7837\n",
      "Epoch 00017: val_loss improved from 0.32596 to 0.32120, saving model to model_param\\GloVe_Feature_Extraction.h5\n",
      "700/700 [==============================] - 72s 103ms/step - loss: 0.2890 - accuracy: 0.8771 - precision: 0.9026 - recall: 0.7836 - val_loss: 0.3212 - val_accuracy: 0.8661 - val_precision: 0.8938 - val_recall: 0.7709\n",
      "Epoch 18/20\n",
      "700/700 [==============================] - ETA: 0s - loss: 0.2842 - accuracy: 0.8795 - precision: 0.9023 - recall: 0.7905\n",
      "Epoch 00018: val_loss did not improve from 0.32120\n",
      "700/700 [==============================] - 72s 103ms/step - loss: 0.2842 - accuracy: 0.8795 - precision: 0.9023 - recall: 0.7905 - val_loss: 0.3308 - val_accuracy: 0.8641 - val_precision: 0.9238 - val_recall: 0.7353\n",
      "Epoch 19/20\n"
     ]
    },
    {
     "name": "stdout",
     "output_type": "stream",
     "text": [
      "698/700 [============================>.] - ETA: 0s - loss: 0.2813 - accuracy: 0.8817 - precision: 0.9050 - recall: 0.7937\n",
      "Epoch 00019: val_loss improved from 0.32120 to 0.31524, saving model to model_param\\GloVe_Feature_Extraction.h5\n",
      "700/700 [==============================] - 69s 98ms/step - loss: 0.2813 - accuracy: 0.8817 - precision: 0.9050 - recall: 0.7938 - val_loss: 0.3152 - val_accuracy: 0.8703 - val_precision: 0.9092 - val_recall: 0.7658\n",
      "Epoch 20/20\n",
      "700/700 [==============================] - ETA: 0s - loss: 0.2747 - accuracy: 0.8835 - precision: 0.9071 - recall: 0.7964\n",
      "Epoch 00020: val_loss did not improve from 0.31524\n",
      "700/700 [==============================] - 69s 99ms/step - loss: 0.2747 - accuracy: 0.8835 - precision: 0.9071 - recall: 0.7964 - val_loss: 0.3164 - val_accuracy: 0.8711 - val_precision: 0.9000 - val_recall: 0.7776\n"
     ]
    }
   ],
   "source": [
    "model.compile(loss='binary_crossentropy',\n",
    "              optimizer='adam',\n",
    "              metrics=['accuracy','Precision','Recall'])\n",
    "\n",
    "mc=ModelCheckpoint(\n",
    "    'model_param/GloVe_Feature_Extraction.h5',\n",
    "    monitor='val_loss',\n",
    "    verbose=1,\n",
    "    save_best_only=True,\n",
    "    save_weights_only=True,\n",
    "    mode='auto'\n",
    ")\n",
    "\n",
    "num_epochs=20\n",
    "\n",
    "history=model.fit(train_text,train_label,\n",
    "                  epochs=num_epochs,batch_size=batch_size,\n",
    "                  callbacks=[mc],\n",
    "                  validation_data=(val_text,val_label))"
   ]
  },
  {
   "cell_type": "code",
   "execution_count": 8,
   "id": "9c3f0457",
   "metadata": {},
   "outputs": [
    {
     "data": {
      "image/png": "[encoded data removed]",
      "text/plain": [
       "<Figure size 432x288 with 1 Axes>"
      ]
     },
     "metadata": {
      "needs_background": "light"
     },
     "output_type": "display_data"
    }
   ],
   "source": [
    "plt.plot(np.arange(1,num_epochs+0.1,dtype=int),\n",
    "         history.history['accuracy'],label='train_acc')\n",
    "plt.plot(np.arange(1,num_epochs+0.1,dtype=int),\n",
    "         history.history['val_accuracy'],label='val_acc')\n",
    "plt.xlabel('epoch')\n",
    "plt.legend()\n",
    "plt.show()"
   ]
  },
  {
   "cell_type": "code",
   "execution_count": 9,
   "id": "25044bb6",
   "metadata": {},
   "outputs": [
    {
     "data": {
      "image/png": "[encoded data removed]",
      "text/plain": [
       "<Figure size 432x288 with 1 Axes>"
      ]
     },
     "metadata": {
      "needs_background": "light"
     },
     "output_type": "display_data"
    }
   ],
   "source": [
    "plt.plot(np.arange(1,num_epochs+0.1,dtype=int),\n",
    "         history.history['loss'],label='train_loss')\n",
    "plt.plot(np.arange(1,num_epochs+0.1,dtype=int),\n",
    "         history.history['val_loss'],label='val_loss')\n",
    "plt.xlabel('epoch')\n",
    "plt.legend()\n",
    "plt.show()"
   ]
  },
  {
   "cell_type": "code",
   "execution_count": null,
   "id": "5fbd4555",
   "metadata": {},
   "outputs": [],
   "source": [
    "# # save the model weights\n",
    "# model.save_weights('GloVe_FeatureExtraction')"
   ]
  },
  {
   "cell_type": "markdown",
   "id": "b984a192",
   "metadata": {},
   "source": [
    "# 3. Predictions and Evaluations"
   ]
  },
  {
   "cell_type": "code",
   "execution_count": 12,
   "id": "89f7b802",
   "metadata": {},
   "outputs": [],
   "source": [
    "# length of vocas in chars\n",
    "voca_size=encoder.vocab_size\n",
    "\n",
    "# number of RNN units\n",
    "rnn_units=64\n",
    "\n",
    "# batch size\n",
    "batch_size=100\n",
    "\n",
    "trained_model=LSTM_model(\n",
    "    voca_size=voca_size,\n",
    "    embedding_dim=embedding_dim,\n",
    "    rnn_units=rnn_units,\n",
    "    batch_size=batch_size)\n",
    "\n",
    "# load the model weights\n",
    "trained_model.load_weights('model_param/GloVe_Feature_Extraction.h5')\n"
   ]
  },
  {
   "cell_type": "code",
   "execution_count": 13,
   "id": "600231fc",
   "metadata": {},
   "outputs": [],
   "source": [
    "# use the model to make prediction on the test set\n",
    "\n",
    "test_outputs=trained_model(test_text)\n",
    "test_pred=((test_outputs.numpy()>0.5)*1).flatten()\n"
   ]
  },
  {
   "cell_type": "code",
   "execution_count": 15,
   "id": "4ad48a87",
   "metadata": {},
   "outputs": [
    {
     "name": "stdout",
     "output_type": "stream",
     "text": [
      "test_acc= 87.1 %\n"
     ]
    }
   ],
   "source": [
    "test_acc=sum(test_label==test_pred)/len(test_pred)\n",
    "print('test_acc=',test_acc*100,'%')"
   ]
  },
  {
   "cell_type": "code",
   "execution_count": null,
   "id": "db1625a0",
   "metadata": {},
   "outputs": [],
   "source": []
  }
 ],
 "metadata": {
  "kernelspec": {
   "display_name": "Python 3",
   "language": "python",
   "name": "python3"
  },
  "language_info": {
   "codemirror_mode": {
    "name": "ipython",
    "version": 3
   },
   "file_extension": ".py",
   "mimetype": "text/x-python",
   "name": "python",
   "nbconvert_exporter": "python",
   "pygments_lexer": "ipython3",
   "version": "3.8.8"
  }
 },
 "nbformat": 4,
 "nbformat_minor": 5
}
