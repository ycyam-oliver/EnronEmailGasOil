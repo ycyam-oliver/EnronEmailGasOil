{
 "cells": [
  {
   "cell_type": "code",
   "execution_count": 1,
   "id": "0bb68047",
   "metadata": {},
   "outputs": [],
   "source": [
    "import os\n",
    "from email.parser import Parser\n",
    "import numpy as np\n",
    "import pandas as pd\n",
    "import re\n",
    "import nltk\n",
    "\n",
    "# import the pretrained Bert tokenizer\n",
    "import transformers\n",
    "from transformers import BertTokenizer, TFBertModel\n",
    "from transformers import InputExample, InputFeatures\n",
    "\n",
    "# from sklearn import metrics, manifold\n",
    "import matplotlib.pyplot as plt\n",
    "import seaborn as sns\n",
    "\n",
    "import tensorflow as tf\n",
    "from sklearn import metrics\n",
    "from tensorflow.keras.callbacks import Callback, ModelCheckpoint\n",
    "from tensorflow.keras.callbacks import LearningRateScheduler"
   ]
  },
  {
   "cell_type": "code",
   "execution_count": 2,
   "id": "771482f2",
   "metadata": {},
   "outputs": [],
   "source": [
    "# import train/val/test data from the data exploration part\n",
    "\n",
    "data_prep=np.load('data_prep_bert.npz')\n",
    "\n",
    "train_reviews=data_prep['train_reviews']\n",
    "train_segments=data_prep['train_segments']\n",
    "train_masks=data_prep['train_masks']\n",
    "train_label=data_prep['train_label']\n",
    "\n",
    "val_reviews=data_prep['val_reviews']\n",
    "val_segments=data_prep['val_segments']\n",
    "val_masks=data_prep['val_masks']\n",
    "val_label=data_prep['val_label']\n",
    "\n",
    "test_reviews=data_prep['test_reviews']\n",
    "test_segments=data_prep['test_segments']\n",
    "test_masks=data_prep['test_masks']\n",
    "test_label=data_prep['test_label']"
   ]
  },
  {
   "cell_type": "code",
   "execution_count": 3,
   "id": "93d09e77",
   "metadata": {},
   "outputs": [],
   "source": [
    "# function to convert the data into tf.tensor inputs \n",
    "# for the training model\n",
    "\n",
    "def example_to_features(input_ids,attention_masks,token_type_ids,label):\n",
    "    return {'input_ids':input_ids,\n",
    "            'attention_mask': attention_masks,\n",
    "            'token_type_ids': token_type_ids},label\n",
    "\n",
    "train_ds=tf.data.Dataset.from_tensor_slices(\n",
    "    (train_reviews,train_masks,train_segments,train_label)).map(\n",
    "    example_to_features).shuffle(100).batch(4)\n",
    "\n",
    "val_ds=tf.data.Dataset.from_tensor_slices(\n",
    "    (val_reviews,val_masks,val_segments,val_label)).map(\n",
    "    example_to_features).shuffle(100).batch(4)\n",
    "\n",
    "test_ds=tf.data.Dataset.from_tensor_slices(\n",
    "    (test_reviews,test_masks,test_segments,test_label)).map(\n",
    "    example_to_features).batch(4)"
   ]
  },
  {
   "cell_type": "markdown",
   "id": "d709d501",
   "metadata": {},
   "source": [
    "# 1. BERT with custom classifer head"
   ]
  },
  {
   "cell_type": "code",
   "execution_count": 4,
   "id": "6891253b",
   "metadata": {},
   "outputs": [
    {
     "name": "stderr",
     "output_type": "stream",
     "text": [
      "Some layers from the model checkpoint at bert-base-uncased were not used when initializing TFBertModel: ['mlm___cls', 'nsp___cls']\n",
      "- This IS expected if you are initializing TFBertModel from the checkpoint of a model trained on another task or with another architecture (e.g. initializing a BertForSequenceClassification model from a BertForPreTraining model).\n",
      "- This IS NOT expected if you are initializing TFBertModel from the checkpoint of a model that you expect to be exactly identical (initializing a BertForSequenceClassification model from a BertForSequenceClassification model).\n",
      "All the layers of TFBertModel were initialized from the model checkpoint at bert-base-uncased.\n",
      "If your task is similar to the task the model of the checkpoint was trained on, you can already use TFBertModel for predictions without further training.\n"
     ]
    },
    {
     "name": "stdout",
     "output_type": "stream",
     "text": [
      "Model: \"tf_bert_model\"\n",
      "_________________________________________________________________\n",
      " Layer (type)                Output Shape              Param #   \n",
      "=================================================================\n",
      " bert (TFBertMainLayer)      multiple                  109482240 \n",
      "                                                                 \n",
      "=================================================================\n",
      "Total params: 109,482,240\n",
      "Trainable params: 109,482,240\n",
      "Non-trainable params: 0\n",
      "_________________________________________________________________\n"
     ]
    }
   ],
   "source": [
    "\n",
    "model0=TFBertModel.from_pretrained('bert-base-uncased')\n",
    "\n",
    "model0.summary()\n"
   ]
  },
  {
   "cell_type": "code",
   "execution_count": 5,
   "id": "b9c88914",
   "metadata": {},
   "outputs": [],
   "source": [
    "def head(training=None):\n",
    "    \n",
    "    # create the inputs for the BERT model\n",
    "    max_seq_len=512\n",
    "    inp_ids=tf.keras.layers.Input(\n",
    "        (max_seq_len),dtype=tf.int64,name='input_ids')\n",
    "    att_mask=tf.keras.layers.Input(\n",
    "        (max_seq_len),dtype=tf.int64,name='attention_mask')\n",
    "    seg_ids=tf.keras.layers.Input(\n",
    "        (max_seq_len),dtype=tf.int64,name='token_type_ids')\n",
    "\n",
    "    inp_dict={'input_ids':inp_ids,\n",
    "              'attention_mask':att_mask,\n",
    "              'token_type_ids':seg_ids}\n",
    "    \n",
    "    output=model0(inp_dict) # from the untrained BERT network\n",
    "    x=tf.keras.layers.Dropout(0.2)(output[1],training=training) \n",
    "    x=tf.keras.layers.Dense(200,activation='relu')(x)\n",
    "    x=tf.keras.layers.Dropout(0.2)(x,training=training)\n",
    "    x=tf.keras.layers.Dense(2,activation='sigmoid')(x)\n",
    "\n",
    "    model=tf.keras.models.Model(inputs=inp_dict,outputs=x)\n",
    "\n",
    "    model.compile(\n",
    "        optimizer=tf.keras.optimizers.Adam(learning_rate=2E-5),\n",
    "        loss=tf.keras.losses.BinaryCrossentropy(from_logits=False),\n",
    "        metrics=['accuracy'])\n",
    "    \n",
    "    return model\n"
   ]
  },
  {
   "cell_type": "markdown",
   "id": "a09d87e9",
   "metadata": {},
   "source": [
    "Train the head (classifier)"
   ]
  },
  {
   "cell_type": "code",
   "execution_count": 7,
   "id": "d8f21708",
   "metadata": {
    "scrolled": true
   },
   "outputs": [
    {
     "name": "stdout",
     "output_type": "stream",
     "text": [
      "Epoch 1/5\n",
      "17500/17500 [==============================] - ETA: 0s - loss: 0.2523 - accuracy: 0.9100\n",
      "Epoch 00001: val_loss improved from inf to 0.20599, saving model to model_param\\Bert_custom_head.h5\n",
      "17500/17500 [==============================] - 5985s 341ms/step - loss: 0.2523 - accuracy: 0.9100 - val_loss: 0.2060 - val_accuracy: 0.9383\n",
      "Epoch 2/5\n",
      "17500/17500 [==============================] - ETA: 0s - loss: 0.1752 - accuracy: 0.9429\n",
      "Epoch 00002: val_loss did not improve from 0.20599\n",
      "17500/17500 [==============================] - 5957s 340ms/step - loss: 0.1752 - accuracy: 0.9429 - val_loss: 0.2429 - val_accuracy: 0.9435\n",
      "Epoch 3/5\n",
      "17500/17500 [==============================] - ETA: 0s - loss: 0.1409 - accuracy: 0.9543\n",
      "Epoch 00003: val_loss did not improve from 0.20599\n",
      "17500/17500 [==============================] - 5954s 340ms/step - loss: 0.1409 - accuracy: 0.9543 - val_loss: 0.2102 - val_accuracy: 0.9467\n",
      "Epoch 4/5\n",
      "17500/17500 [==============================] - ETA: 0s - loss: 0.1153 - accuracy: 0.9634\n",
      "Epoch 00004: val_loss improved from 0.20599 to 0.18843, saving model to model_param\\Bert_custom_head.h5\n",
      "17500/17500 [==============================] - 5960s 341ms/step - loss: 0.1153 - accuracy: 0.9634 - val_loss: 0.1884 - val_accuracy: 0.9497\n",
      "Epoch 5/5\n",
      "17500/17500 [==============================] - ETA: 0s - loss: 0.0927 - accuracy: 0.9711\n",
      "Epoch 00005: val_loss did not improve from 0.18843\n",
      "17500/17500 [==============================] - 5964s 341ms/step - loss: 0.0927 - accuracy: 0.9711 - val_loss: 0.2387 - val_accuracy: 0.9474\n"
     ]
    }
   ],
   "source": [
    "mc=ModelCheckpoint(\n",
    "    'model_param/Bert_custom_head.h5',\n",
    "    monitor='val_loss',\n",
    "    verbose=1,\n",
    "    save_best_only=True,\n",
    "    save_weights_only=True,\n",
    "    mode='auto'\n",
    ")\n",
    "\n",
    "num_epochs=5\n",
    "\n",
    "classifier=head(training=True)\n",
    "history=classifier.fit(\n",
    "    train_ds,epochs=num_epochs,\n",
    "    callbacks=[mc],\n",
    "    validation_data=val_ds) \n",
    "    # such that # validation sample is 0.2 of the total samples\n"
   ]
  },
  {
   "cell_type": "code",
   "execution_count": 8,
   "id": "e36dc451",
   "metadata": {},
   "outputs": [
    {
     "data": {
      "image/png": "[encoded data removed]",
      "text/plain": [
       "<Figure size 432x288 with 1 Axes>"
      ]
     },
     "metadata": {
      "needs_background": "light"
     },
     "output_type": "display_data"
    }
   ],
   "source": [
    "plt.plot(np.arange(1,num_epochs+0.1,dtype=int),\n",
    "         history.history['accuracy'],label='train_acc')\n",
    "plt.plot(np.arange(1,num_epochs+0.1,dtype=int),\n",
    "         history.history['val_accuracy'],label='val_acc')\n",
    "plt.xlabel('epoch')\n",
    "plt.legend()\n",
    "plt.show()"
   ]
  },
  {
   "cell_type": "code",
   "execution_count": 9,
   "id": "fdd216c1",
   "metadata": {},
   "outputs": [
    {
     "data": {
      "image/png": "[encoded data removed]",
      "text/plain": [
       "<Figure size 432x288 with 1 Axes>"
      ]
     },
     "metadata": {
      "needs_background": "light"
     },
     "output_type": "display_data"
    }
   ],
   "source": [
    "plt.plot(np.arange(1,num_epochs+0.1,dtype=int),\n",
    "         history.history['loss'],label='train_loss')\n",
    "plt.plot(np.arange(1,num_epochs+0.1,dtype=int),\n",
    "         history.history['val_loss'],label='val_loss')\n",
    "plt.xlabel('epoch')\n",
    "plt.legend()\n",
    "plt.show()"
   ]
  },
  {
   "cell_type": "code",
   "execution_count": null,
   "id": "e66d2194",
   "metadata": {},
   "outputs": [],
   "source": [
    "# # save the model weights\n",
    "# classifier.save_weights('trained_classifier')"
   ]
  },
  {
   "cell_type": "markdown",
   "id": "2983908a",
   "metadata": {},
   "source": [
    "# 2. Predictions and Evaluations"
   ]
  },
  {
   "cell_type": "code",
   "execution_count": 10,
   "id": "d5970f92",
   "metadata": {},
   "outputs": [],
   "source": [
    "bert=head(training=False)\n",
    "bert.load_weights('model_param/Bert_custom_head.h5')\n",
    "\n",
    "bert.compile(\n",
    "        optimizer=tf.keras.optimizers.Adam(learning_rate=2E-5),\n",
    "        loss=tf.keras.losses.BinaryCrossentropy(from_logits=False),\n",
    "        metrics=['accuracy'])\n"
   ]
  },
  {
   "cell_type": "code",
   "execution_count": 11,
   "id": "53cbc02b",
   "metadata": {},
   "outputs": [
    {
     "name": "stdout",
     "output_type": "stream",
     "text": [
      "3750/3750 [==============================] - 402s 106ms/step - loss: 0.1897 - accuracy: 0.947335s - \n"
     ]
    },
    {
     "data": {
      "text/plain": [
       "[0.1896783858537674, 0.9472666382789612]"
      ]
     },
     "execution_count": 11,
     "metadata": {},
     "output_type": "execute_result"
    }
   ],
   "source": [
    "bert.evaluate(test_ds)"
   ]
  },
  {
   "cell_type": "code",
   "execution_count": null,
   "id": "cbce3234",
   "metadata": {},
   "outputs": [],
   "source": [
    "# metrics.rand_score(test_sentence_label, label_pred)"
   ]
  },
  {
   "cell_type": "code",
   "execution_count": null,
   "id": "7f46a76a",
   "metadata": {},
   "outputs": [],
   "source": []
  }
 ],
 "metadata": {
  "kernelspec": {
   "display_name": "Python 3",
   "language": "python",
   "name": "python3"
  },
  "language_info": {
   "codemirror_mode": {
    "name": "ipython",
    "version": 3
   },
   "file_extension": ".py",
   "mimetype": "text/x-python",
   "name": "python",
   "nbconvert_exporter": "python",
   "pygments_lexer": "ipython3",
   "version": "3.8.8"
  }
 },
 "nbformat": 4,
 "nbformat_minor": 5
}
