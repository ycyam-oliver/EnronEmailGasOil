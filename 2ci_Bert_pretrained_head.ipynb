{
 "cells": [
  {
   "cell_type": "code",
   "execution_count": 1,
   "id": "0bb68047",
   "metadata": {},
   "outputs": [],
   "source": [
    "import os\n",
    "from email.parser import Parser\n",
    "import numpy as np\n",
    "import pandas as pd\n",
    "import re\n",
    "import nltk\n",
    "\n",
    "# import the pretrained Bert tokenizer\n",
    "import transformers\n",
    "from transformers import BertTokenizer, TFBertForSequenceClassification\n",
    "from transformers import InputExample, InputFeatures\n",
    "\n",
    "# from sklearn import metrics, manifold\n",
    "import matplotlib.pyplot as plt\n",
    "import seaborn as sns\n",
    "\n",
    "import tensorflow as tf\n",
    "from sklearn import metrics\n",
    "from tensorflow.keras.callbacks import Callback, ModelCheckpoint\n",
    "from tensorflow.keras.callbacks import LearningRateScheduler"
   ]
  },
  {
   "cell_type": "code",
   "execution_count": 2,
   "id": "771482f2",
   "metadata": {},
   "outputs": [],
   "source": [
    "# import train/val/test data from the data exploration part\n",
    "\n",
    "data_prep=np.load('data_prep_bert.npz')\n",
    "\n",
    "train_reviews=data_prep['train_reviews']\n",
    "train_segments=data_prep['train_segments']\n",
    "train_masks=data_prep['train_masks']\n",
    "train_label=data_prep['train_label']\n",
    "\n",
    "val_reviews=data_prep['val_reviews']\n",
    "val_segments=data_prep['val_segments']\n",
    "val_masks=data_prep['val_masks']\n",
    "val_label=data_prep['val_label']\n",
    "\n",
    "test_reviews=data_prep['test_reviews']\n",
    "test_segments=data_prep['test_segments']\n",
    "test_masks=data_prep['test_masks']\n",
    "test_label=data_prep['test_label']"
   ]
  },
  {
   "cell_type": "code",
   "execution_count": 3,
   "id": "93d09e77",
   "metadata": {},
   "outputs": [],
   "source": [
    "# function to convert the data into tf.tensor inputs \n",
    "# for the training model\n",
    "\n",
    "def example_to_features(input_ids,attention_masks,token_type_ids,label):\n",
    "    return {'input_ids':input_ids,\n",
    "            'attention_mask': attention_masks,\n",
    "            'token_type_ids': token_type_ids},label\n",
    "\n",
    "train_ds=tf.data.Dataset.from_tensor_slices(\n",
    "    (train_reviews,train_masks,train_segments,train_label)).map(\n",
    "    example_to_features).shuffle(100).batch(4)\n",
    "\n",
    "val_ds=tf.data.Dataset.from_tensor_slices(\n",
    "    (val_reviews,val_masks,val_segments,val_label)).map(\n",
    "    example_to_features).shuffle(100).batch(4)\n",
    "\n",
    "test_ds=tf.data.Dataset.from_tensor_slices(\n",
    "    (test_reviews,test_masks,test_segments,test_label)).map(\n",
    "    example_to_features).batch(4)"
   ]
  },
  {
   "cell_type": "markdown",
   "id": "d709d501",
   "metadata": {},
   "source": [
    "# 1. BERT with custom classifer head"
   ]
  },
  {
   "cell_type": "code",
   "execution_count": 4,
   "id": "6891253b",
   "metadata": {},
   "outputs": [
    {
     "name": "stderr",
     "output_type": "stream",
     "text": [
      "All model checkpoint layers were used when initializing TFBertForSequenceClassification.\n",
      "\n",
      "Some layers of TFBertForSequenceClassification were not initialized from the model checkpoint at bert-base-uncased and are newly initialized: ['classifier']\n",
      "You should probably TRAIN this model on a down-stream task to be able to use it for predictions and inference.\n"
     ]
    },
    {
     "name": "stdout",
     "output_type": "stream",
     "text": [
      "Model: \"tf_bert_for_sequence_classification\"\n",
      "_________________________________________________________________\n",
      " Layer (type)                Output Shape              Param #   \n",
      "=================================================================\n",
      " bert (TFBertMainLayer)      multiple                  109482240 \n",
      "                                                                 \n",
      " dropout_37 (Dropout)        multiple                  0         \n",
      "                                                                 \n",
      " classifier (Dense)          multiple                  1538      \n",
      "                                                                 \n",
      "=================================================================\n",
      "Total params: 109,483,778\n",
      "Trainable params: 109,483,778\n",
      "Non-trainable params: 0\n",
      "_________________________________________________________________\n"
     ]
    }
   ],
   "source": [
    "# load the pretrained BERT model\n",
    "bert=TFBertForSequenceClassification.from_pretrained('bert-base-uncased')\n",
    "bert.summary()"
   ]
  },
  {
   "cell_type": "code",
   "execution_count": 7,
   "id": "a0c441f7",
   "metadata": {},
   "outputs": [],
   "source": [
    "optimizer=tf.keras.optimizers.Adam(learning_rate=2E-5)\n",
    "loss=tf.keras.losses.BinaryCrossentropy(from_logits=True)\n",
    "\n",
    "bert.compile(optimizer=optimizer,loss=loss,\n",
    "             metrics=['accuracy'])"
   ]
  },
  {
   "cell_type": "markdown",
   "id": "a09d87e9",
   "metadata": {},
   "source": [
    "Train the head (classifier)"
   ]
  },
  {
   "cell_type": "code",
   "execution_count": 8,
   "id": "d8f21708",
   "metadata": {
    "scrolled": true
   },
   "outputs": [
    {
     "name": "stdout",
     "output_type": "stream",
     "text": [
      "Epoch 1/5\n",
      "17500/17500 [==============================] - ETA: 0s - loss: 0.2434 - accuracy: 0.9132\n",
      "Epoch 00001: val_loss improved from inf to 0.19180, saving model to model_param\\Bert_pretrained_bert.h5\n",
      "17500/17500 [==============================] - 6112s 349ms/step - loss: 0.2434 - accuracy: 0.9132 - val_loss: 0.1918 - val_accuracy: 0.9377\n",
      "Epoch 2/5\n",
      "17500/17500 [==============================] - ETA: 0s - loss: 0.1678 - accuracy: 0.9437\n",
      "Epoch 00002: val_loss improved from 0.19180 to 0.18012, saving model to model_param\\Bert_pretrained_bert.h5\n",
      "17500/17500 [==============================] - 6004s 343ms/step - loss: 0.1678 - accuracy: 0.9437 - val_loss: 0.1801 - val_accuracy: 0.9437\n",
      "Epoch 3/5\n",
      "17500/17500 [==============================] - ETA: 0s - loss: 0.1298 - accuracy: 0.9571\n",
      "Epoch 00003: val_loss did not improve from 0.18012\n",
      "17500/17500 [==============================] - 5970s 341ms/step - loss: 0.1298 - accuracy: 0.9571 - val_loss: 0.1829 - val_accuracy: 0.9473\n",
      "Epoch 4/5\n",
      "17500/17500 [==============================] - ETA: 0s - loss: 0.1038 - accuracy: 0.9677\n",
      "Epoch 00004: val_loss did not improve from 0.18012\n",
      "17500/17500 [==============================] - 5978s 342ms/step - loss: 0.1038 - accuracy: 0.9677 - val_loss: 0.1855 - val_accuracy: 0.9451\n",
      "Epoch 5/5\n",
      "17500/17500 [==============================] - ETA: 0s - loss: 0.0987 - accuracy: 0.9698\n",
      "Epoch 00005: val_loss did not improve from 0.18012\n",
      "17500/17500 [==============================] - 5983s 342ms/step - loss: 0.0987 - accuracy: 0.9698 - val_loss: 0.2345 - val_accuracy: 0.9445\n"
     ]
    }
   ],
   "source": [
    "mc=ModelCheckpoint(\n",
    "    'model_param/Bert_pretrained_bert.h5',\n",
    "    monitor='val_loss',\n",
    "    verbose=1,\n",
    "    save_best_only=True,\n",
    "    save_weights_only=True,\n",
    "    mode='auto'\n",
    ")\n",
    "\n",
    "num_epochs=5\n",
    "\n",
    "history=bert.fit(\n",
    "    train_ds,epochs=num_epochs,\n",
    "    callbacks=[mc],\n",
    "    validation_data=val_ds)\n"
   ]
  },
  {
   "cell_type": "code",
   "execution_count": 9,
   "id": "e36dc451",
   "metadata": {},
   "outputs": [
    {
     "data": {
      "image/png": "[encoded data removed]",
      "text/plain": [
       "<Figure size 432x288 with 1 Axes>"
      ]
     },
     "metadata": {
      "needs_background": "light"
     },
     "output_type": "display_data"
    }
   ],
   "source": [
    "plt.plot(np.arange(1,num_epochs+0.1,dtype=int),\n",
    "         history.history['accuracy'],label='train_acc')\n",
    "plt.plot(np.arange(1,num_epochs+0.1,dtype=int),\n",
    "         history.history['val_accuracy'],label='val_acc')\n",
    "plt.xlabel('epoch')\n",
    "plt.legend()\n",
    "plt.show()"
   ]
  },
  {
   "cell_type": "code",
   "execution_count": 10,
   "id": "fdd216c1",
   "metadata": {},
   "outputs": [
    {
     "data": {
      "image/png": "[encoded data removed]",
      "text/plain": [
       "<Figure size 432x288 with 1 Axes>"
      ]
     },
     "metadata": {
      "needs_background": "light"
     },
     "output_type": "display_data"
    }
   ],
   "source": [
    "plt.plot(np.arange(1,num_epochs+0.1,dtype=int),\n",
    "         history.history['loss'],label='train_loss')\n",
    "plt.plot(np.arange(1,num_epochs+0.1,dtype=int),\n",
    "         history.history['val_loss'],label='val_loss')\n",
    "plt.xlabel('epoch')\n",
    "plt.legend()\n",
    "plt.show()"
   ]
  },
  {
   "cell_type": "code",
   "execution_count": null,
   "id": "e66d2194",
   "metadata": {},
   "outputs": [],
   "source": [
    "# # save the model weights\n",
    "# classifier.save_weights('trained_classifier')"
   ]
  },
  {
   "cell_type": "markdown",
   "id": "2983908a",
   "metadata": {},
   "source": [
    "# 2. Predictions and Evaluations"
   ]
  },
  {
   "cell_type": "code",
   "execution_count": 11,
   "id": "d5970f92",
   "metadata": {},
   "outputs": [
    {
     "name": "stderr",
     "output_type": "stream",
     "text": [
      "All model checkpoint layers were used when initializing TFBertForSequenceClassification.\n",
      "\n",
      "Some layers of TFBertForSequenceClassification were not initialized from the model checkpoint at bert-base-uncased and are newly initialized: ['classifier']\n",
      "You should probably TRAIN this model on a down-stream task to be able to use it for predictions and inference.\n"
     ]
    }
   ],
   "source": [
    "bert=TFBertForSequenceClassification.from_pretrained(\n",
    "            'bert-base-uncased')\n",
    "bert.load_weights('model_param/Bert_pretrained_bert.h5')\n",
    "\n",
    "optimizer=tf.keras.optimizers.Adam(learning_rate=2E-5)\n",
    "loss=tf.keras.losses.BinaryCrossentropy(from_logits=True)\n",
    "\n",
    "bert.compile(optimizer=optimizer,loss=loss,metrics=['accuracy'])"
   ]
  },
  {
   "cell_type": "code",
   "execution_count": 12,
   "id": "c0d7db10",
   "metadata": {},
   "outputs": [
    {
     "name": "stdout",
     "output_type": "stream",
     "text": [
      "3750/3750 [==============================] - 407s 107ms/step - loss: 0.1802 - accuracy: 0.9420 - l - ETA: 0s - loss: 0.1804 \n"
     ]
    },
    {
     "data": {
      "text/plain": [
       "[0.18016251921653748, 0.9419999718666077]"
      ]
     },
     "execution_count": 12,
     "metadata": {},
     "output_type": "execute_result"
    }
   ],
   "source": [
    "bert.evaluate(test_ds)"
   ]
  },
  {
   "cell_type": "code",
   "execution_count": null,
   "id": "cbce3234",
   "metadata": {},
   "outputs": [],
   "source": [
    "# metrics.rand_score(test_sentence_label, label_pred)"
   ]
  },
  {
   "cell_type": "code",
   "execution_count": null,
   "id": "3d81b6c2",
   "metadata": {},
   "outputs": [],
   "source": []
  }
 ],
 "metadata": {
  "kernelspec": {
   "display_name": "Python 3",
   "language": "python",
   "name": "python3"
  },
  "language_info": {
   "codemirror_mode": {
    "name": "ipython",
    "version": 3
   },
   "file_extension": ".py",
   "mimetype": "text/x-python",
   "name": "python",
   "nbconvert_exporter": "python",
   "pygments_lexer": "ipython3",
   "version": "3.8.8"
  }
 },
 "nbformat": 4,
 "nbformat_minor": 5
}
