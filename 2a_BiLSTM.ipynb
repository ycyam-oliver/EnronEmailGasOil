{
 "cells": [
  {
   "cell_type": "code",
   "execution_count": 1,
   "id": "2d6e238d",
   "metadata": {},
   "outputs": [],
   "source": [
    "import os\n",
    "import numpy as np\n",
    "import pandas as pd\n",
    "import re\n",
    "import nltk\n",
    "\n",
    "# from sklearn import metrics\n",
    "import matplotlib.pyplot as plt\n",
    "import seaborn as sns\n",
    "\n",
    "import tensorflow as tf\n",
    "import tensorflow_datasets as tfds\n",
    "from tensorflow.keras.preprocessing import sequence\n",
    "from sklearn import metrics\n",
    "\n",
    "from tensorflow.keras.callbacks import Callback, ModelCheckpoint\n",
    "from tensorflow.keras.callbacks import LearningRateScheduler"
   ]
  },
  {
   "cell_type": "code",
   "execution_count": 2,
   "id": "56f752b4",
   "metadata": {},
   "outputs": [],
   "source": [
    "# import train/val/test data from the data exploration part\n",
    "\n",
    "data_prep=np.load('data_prep.npz',allow_pickle=True)\n",
    "train_text,train_label=data_prep['train_text'],data_prep['train_label']\n",
    "val_text,val_label=data_prep['val_text'],data_prep['val_label']\n",
    "test_text,test_label=data_prep['test_text'],data_prep['test_label']\n",
    "voca_set=data_prep['voca_set'].tolist()\n",
    "\n",
    "# define encoder and tokenizer\n",
    "tokenizer=tfds.deprecated.text.Tokenizer()\n",
    "encoder=tfds.deprecated.text.TokenTextEncoder(\n",
    "    voca_set,tokenizer=tokenizer)"
   ]
  },
  {
   "cell_type": "markdown",
   "id": "ff0f2a5c",
   "metadata": {},
   "source": [
    "# 1. BiLSTM model"
   ]
  },
  {
   "cell_type": "code",
   "execution_count": 3,
   "id": "d7c1a9fd",
   "metadata": {},
   "outputs": [],
   "source": [
    "def LSTM_model(voca_size,embedding_dim,rnn_units,batch_size):\n",
    "    model=tf.keras.Sequential([\n",
    "        tf.keras.layers.Embedding(voca_size,embedding_dim,\n",
    "                                  mask_zero=True,\n",
    "                                  batch_input_shape=[batch_size,None]),\n",
    "        tf.keras.layers.Bidirectional(\n",
    "            tf.keras.layers.LSTM(rnn_units,dropout=0.25)),\n",
    "        tf.keras.layers.Dense(1,activation='sigmoid')\n",
    "    ])\n",
    "    return model\n"
   ]
  },
  {
   "cell_type": "code",
   "execution_count": 4,
   "id": "a523e625",
   "metadata": {},
   "outputs": [
    {
     "name": "stdout",
     "output_type": "stream",
     "text": [
      "Model: \"sequential\"\n",
      "_________________________________________________________________\n",
      " Layer (type)                Output Shape              Param #   \n",
      "=================================================================\n",
      " embedding (Embedding)       (100, None, 64)           7094784   \n",
      "                                                                 \n",
      " bidirectional (Bidirectiona  (100, 128)               66048     \n",
      " l)                                                              \n",
      "                                                                 \n",
      " dense (Dense)               (100, 1)                  129       \n",
      "                                                                 \n",
      "=================================================================\n",
      "Total params: 7,160,961\n",
      "Trainable params: 7,160,961\n",
      "Non-trainable params: 0\n",
      "_________________________________________________________________\n"
     ]
    }
   ],
   "source": [
    "# length of vocas in chars\n",
    "voca_size=encoder.vocab_size\n",
    "\n",
    "embedding_dim=64 \n",
    "\n",
    "# number of RNN units\n",
    "rnn_units=64\n",
    "\n",
    "# batch size\n",
    "batch_size=100\n",
    "\n",
    "model=LSTM_model(\n",
    "    voca_size=voca_size,\n",
    "    embedding_dim=embedding_dim,\n",
    "    rnn_units=rnn_units,\n",
    "    batch_size=batch_size)\n",
    "\n",
    "model.summary()"
   ]
  },
  {
   "cell_type": "code",
   "execution_count": 5,
   "id": "c7269365",
   "metadata": {
    "scrolled": true
   },
   "outputs": [
    {
     "name": "stdout",
     "output_type": "stream",
     "text": [
      "Epoch 1/8\n",
      "698/700 [============================>.] - ETA: 0s - loss: 0.3194 - accuracy: 0.8733 - precision: 0.9142 - recall: 0.7612\n",
      "Epoch 00001: val_loss improved from inf to 0.21975, saving model to model_param\\BiLSTM.h5\n",
      "700/700 [==============================] - 279s 393ms/step - loss: 0.3191 - accuracy: 0.8734 - precision: 0.9144 - recall: 0.7614 - val_loss: 0.2197 - val_accuracy: 0.9255 - val_precision: 0.9678 - val_recall: 0.8499\n",
      "Epoch 2/8\n",
      "699/700 [============================>.] - ETA: 0s - loss: 0.1713 - accuracy: 0.9404 - precision: 0.9672 - recall: 0.8841\n",
      "Epoch 00002: val_loss improved from 0.21975 to 0.20229, saving model to model_param\\BiLSTM.h5\n",
      "700/700 [==============================] - 629s 900ms/step - loss: 0.1712 - accuracy: 0.9405 - precision: 0.9673 - recall: 0.8842 - val_loss: 0.2023 - val_accuracy: 0.9338 - val_precision: 0.9654 - val_recall: 0.8728\n",
      "Epoch 3/8\n",
      "700/700 [==============================] - ETA: 0s - loss: 0.1205 - accuracy: 0.9586 - precision: 0.9705 - recall: 0.9269\n",
      "Epoch 00003: val_loss did not improve from 0.20229\n",
      "700/700 [==============================] - 653s 934ms/step - loss: 0.1205 - accuracy: 0.9586 - precision: 0.9705 - recall: 0.9269 - val_loss: 0.2058 - val_accuracy: 0.9350 - val_precision: 0.9432 - val_recall: 0.8985\n",
      "Epoch 4/8\n",
      "700/700 [==============================] - ETA: 0s - loss: 0.0885 - accuracy: 0.9702 - precision: 0.9764 - recall: 0.9500\n",
      "Epoch 00004: val_loss did not improve from 0.20229\n",
      "700/700 [==============================] - 625s 894ms/step - loss: 0.0885 - accuracy: 0.9702 - precision: 0.9764 - recall: 0.9500 - val_loss: 0.2067 - val_accuracy: 0.9392 - val_precision: 0.9523 - val_recall: 0.8994\n",
      "Epoch 5/8\n",
      "700/700 [==============================] - ETA: 0s - loss: 0.0688 - accuracy: 0.9765 - precision: 0.9790 - recall: 0.9630\n",
      "Epoch 00005: val_loss did not improve from 0.20229\n",
      "700/700 [==============================] - 643s 919ms/step - loss: 0.0688 - accuracy: 0.9765 - precision: 0.9790 - recall: 0.9630 - val_loss: 0.2266 - val_accuracy: 0.9337 - val_precision: 0.9276 - val_recall: 0.9124\n",
      "Epoch 6/8\n",
      "700/700 [==============================] - ETA: 0s - loss: 0.0563 - accuracy: 0.9805 - precision: 0.9809 - recall: 0.9712\n",
      "Epoch 00006: val_loss did not improve from 0.20229\n",
      "700/700 [==============================] - 604s 864ms/step - loss: 0.0563 - accuracy: 0.9805 - precision: 0.9809 - recall: 0.9712 - val_loss: 0.2332 - val_accuracy: 0.9357 - val_precision: 0.9336 - val_recall: 0.9109\n",
      "Epoch 7/8\n",
      "700/700 [==============================] - ETA: 0s - loss: 0.0483 - accuracy: 0.9831 - precision: 0.9829 - recall: 0.9756\n",
      "Epoch 00007: val_loss did not improve from 0.20229\n",
      "700/700 [==============================] - 688s 974ms/step - loss: 0.0483 - accuracy: 0.9831 - precision: 0.9829 - recall: 0.9756 - val_loss: 0.2560 - val_accuracy: 0.9267 - val_precision: 0.9065 - val_recall: 0.9192\n",
      "Epoch 8/8\n",
      "698/700 [============================>.] - ETA: 1s - loss: 0.0438 - accuracy: 0.9842 - precision: 0.9840 - recall: 0.9772\n",
      "Epoch 00008: val_loss did not improve from 0.20229\n",
      "700/700 [==============================] - 585s 837ms/step - loss: 0.0437 - accuracy: 0.9842 - precision: 0.9840 - recall: 0.9772 - val_loss: 0.2624 - val_accuracy: 0.9341 - val_precision: 0.9345 - val_recall: 0.9058\n"
     ]
    }
   ],
   "source": [
    "model.compile(loss='binary_crossentropy',\n",
    "              optimizer='adam',\n",
    "              metrics=['accuracy','Precision','Recall'])\n",
    "\n",
    "mc=ModelCheckpoint(\n",
    "    'model_param/BiLSTM.h5',\n",
    "    monitor='val_loss',\n",
    "    verbose=1,\n",
    "    save_best_only=True,\n",
    "    save_weights_only=True,\n",
    "    mode='auto'\n",
    ")\n",
    "\n",
    "num_epochs=8\n",
    "\n",
    "history=model.fit(train_text,train_label,\n",
    "                  epochs=num_epochs,batch_size=batch_size,\n",
    "                  callbacks=[mc],\n",
    "                  validation_data=(val_text,val_label))\n"
   ]
  },
  {
   "cell_type": "code",
   "execution_count": 6,
   "id": "10378c48",
   "metadata": {},
   "outputs": [
    {
     "data": {
      "image/png": "[encoded data removed]",
      "text/plain": [
       "<Figure size 432x288 with 1 Axes>"
      ]
     },
     "metadata": {
      "needs_background": "light"
     },
     "output_type": "display_data"
    }
   ],
   "source": [
    "plt.plot(np.arange(1,num_epochs+0.1,dtype=int),\n",
    "         history.history['accuracy'],label='train_acc')\n",
    "plt.plot(np.arange(1,num_epochs+0.1,dtype=int),\n",
    "         history.history['val_accuracy'],label='val_acc')\n",
    "plt.xlabel('epoch')\n",
    "plt.legend()\n",
    "plt.show()"
   ]
  },
  {
   "cell_type": "code",
   "execution_count": 7,
   "id": "cf16f314",
   "metadata": {},
   "outputs": [
    {
     "data": {
      "image/png": "[encoded data removed]",
      "text/plain": [
       "<Figure size 432x288 with 1 Axes>"
      ]
     },
     "metadata": {
      "needs_background": "light"
     },
     "output_type": "display_data"
    }
   ],
   "source": [
    "plt.plot(np.arange(1,num_epochs+0.1,dtype=int),\n",
    "         history.history['loss'],label='train_loss')\n",
    "plt.plot(np.arange(1,num_epochs+0.1,dtype=int),\n",
    "         history.history['val_loss'],label='val_loss')\n",
    "plt.xlabel('epoch')\n",
    "plt.legend()\n",
    "plt.show()"
   ]
  },
  {
   "cell_type": "code",
   "execution_count": 12,
   "id": "629fbdda",
   "metadata": {},
   "outputs": [],
   "source": [
    "# # save the model weights\n",
    "# model.save_weights('BiLSTM')"
   ]
  },
  {
   "cell_type": "markdown",
   "id": "6e8ecfce",
   "metadata": {},
   "source": [
    "# 2. Predictions and Evaluations"
   ]
  },
  {
   "cell_type": "code",
   "execution_count": 9,
   "id": "5b93a4ed",
   "metadata": {},
   "outputs": [],
   "source": [
    "# length of vocas in chars\n",
    "voca_size=encoder.vocab_size\n",
    "\n",
    "# number of RNN units\n",
    "rnn_units=64\n",
    "\n",
    "# batch size\n",
    "batch_size=100\n",
    "\n",
    "trained_model=LSTM_model(\n",
    "    voca_size=voca_size,\n",
    "    embedding_dim=embedding_dim,\n",
    "    rnn_units=rnn_units,\n",
    "    batch_size=batch_size)\n",
    "\n",
    "# load the model weights\n",
    "trained_model.load_weights('model_param/BiLSTM.h5')\n"
   ]
  },
  {
   "cell_type": "code",
   "execution_count": 10,
   "id": "90e18eca",
   "metadata": {},
   "outputs": [],
   "source": [
    "# use the model to make prediction on the test set\n",
    "\n",
    "test_outputs=trained_model(test_text)\n",
    "test_pred=((test_outputs.numpy()>0.5)*1).flatten()\n"
   ]
  },
  {
   "cell_type": "code",
   "execution_count": 12,
   "id": "590009c0",
   "metadata": {},
   "outputs": [
    {
     "name": "stdout",
     "output_type": "stream",
     "text": [
      "test_acc= 93.36666666666666 %\n"
     ]
    }
   ],
   "source": [
    "test_acc=sum(test_label==test_pred)/len(test_pred)\n",
    "print('test_acc=',test_acc*100,'%')\n"
   ]
  }
 ],
 "metadata": {
  "kernelspec": {
   "display_name": "Python 3",
   "language": "python",
   "name": "python3"
  },
  "language_info": {
   "codemirror_mode": {
    "name": "ipython",
    "version": 3
   },
   "file_extension": ".py",
   "mimetype": "text/x-python",
   "name": "python",
   "nbconvert_exporter": "python",
   "pygments_lexer": "ipython3",
   "version": "3.8.8"
  }
 },
 "nbformat": 4,
 "nbformat_minor": 5
}
