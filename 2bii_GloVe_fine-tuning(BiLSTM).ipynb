{
 "cells": [
  {
   "cell_type": "code",
   "execution_count": 2,
   "id": "29054437",
   "metadata": {},
   "outputs": [],
   "source": [
    "import os\n",
    "import numpy as np\n",
    "import pandas as pd\n",
    "import re\n",
    "import nltk\n",
    "\n",
    "# from sklearn import metrics\n",
    "import matplotlib.pyplot as plt\n",
    "import seaborn as sns\n",
    "\n",
    "import tensorflow as tf\n",
    "import tensorflow_datasets as tfds\n",
    "from tensorflow.keras.preprocessing import sequence\n",
    "from sklearn import metrics\n",
    "\n",
    "from tensorflow.keras.callbacks import Callback, ModelCheckpoint\n",
    "from tensorflow.keras.callbacks import LearningRateScheduler\n"
   ]
  },
  {
   "cell_type": "code",
   "execution_count": 3,
   "id": "a12ea053",
   "metadata": {},
   "outputs": [],
   "source": [
    "# import train/val/test data from the data exploration part\n",
    "\n",
    "data_prep=np.load('data_prep.npz',allow_pickle=True)\n",
    "train_text,train_label=data_prep['train_text'],data_prep['train_label']\n",
    "val_text,val_label=data_prep['val_text'],data_prep['val_label']\n",
    "test_text,test_label=data_prep['test_text'],data_prep['test_label']\n",
    "voca_set=data_prep['voca_set'].tolist()\n",
    "\n",
    "# define encoder and tokenizer\n",
    "tokenizer=tfds.deprecated.text.Tokenizer()\n",
    "encoder=tfds.deprecated.text.TokenTextEncoder(\n",
    "    voca_set,tokenizer=tokenizer)"
   ]
  },
  {
   "cell_type": "markdown",
   "id": "40f18b2c",
   "metadata": {},
   "source": [
    "# 1. Pre-trained GloVe embeddings"
   ]
  },
  {
   "cell_type": "code",
   "execution_count": 4,
   "id": "8794cc40",
   "metadata": {},
   "outputs": [
    {
     "name": "stdout",
     "output_type": "stream",
     "text": [
      "Dictionary size is  400000\n"
     ]
    }
   ],
   "source": [
    "# load the GloVe embeddings\n",
    "\n",
    "dict_w2v={}\n",
    "\n",
    "with open('GloVe_dict/glove.6B/glove.6B.50d.txt','r',encoding=\"utf8\") as file:\n",
    "    for line in file:\n",
    "        tokens=line.split()\n",
    "        word=tokens[0]\n",
    "        vector=np.array(tokens[1:],dtype=np.float32)\n",
    "        \n",
    "        if vector.shape[0]==50:\n",
    "            dict_w2v[word]=vector\n",
    "        else:\n",
    "            print('Error with '+word)\n",
    "print('Dictionary size is ', len(dict_w2v))"
   ]
  },
  {
   "cell_type": "code",
   "execution_count": 5,
   "id": "9836652a",
   "metadata": {},
   "outputs": [],
   "source": [
    "# a matrix relating the vocas in our text set to the GloVe dict\n",
    "\n",
    "embedding_dim=50\n",
    "\n",
    "embedding_matrix=np.zeros((encoder.vocab_size,embedding_dim))\n",
    "\n",
    "for word in encoder.tokens:\n",
    "    embedding_vec=dict_w2v.get(word)\n",
    "    \n",
    "    if embedding_vec is not None:\n",
    "        tkn_id=encoder.encode(word)[0]\n",
    "        embedding_matrix[tkn_id]=embedding_vec\n",
    "        "
   ]
  },
  {
   "cell_type": "markdown",
   "id": "bfc31d1b",
   "metadata": {},
   "source": [
    "# 2. Fine-tuning Model (BiLSTM)"
   ]
  },
  {
   "cell_type": "code",
   "execution_count": 6,
   "id": "7917c697",
   "metadata": {},
   "outputs": [],
   "source": [
    "def LSTM_model(\n",
    "    voca_size,embedding_dim,rnn_units,batch_size,train_emb=False):\n",
    "    \n",
    "    model=tf.keras.Sequential([\n",
    "        tf.keras.layers.Embedding(voca_size,embedding_dim,\n",
    "                                  mask_zero=True,\n",
    "                                  weights=[embedding_matrix],\n",
    "                                  trainable=train_emb),\n",
    "        tf.keras.layers.Bidirectional(\n",
    "            tf.keras.layers.LSTM(rnn_units,dropout=0.25)),\n",
    "        tf.keras.layers.Dense(1,activation='sigmoid')\n",
    "    ])\n",
    "    return model\n",
    "    "
   ]
  },
  {
   "cell_type": "code",
   "execution_count": 7,
   "id": "c503cfd6",
   "metadata": {},
   "outputs": [
    {
     "name": "stdout",
     "output_type": "stream",
     "text": [
      "Model: \"sequential\"\n",
      "_________________________________________________________________\n",
      " Layer (type)                Output Shape              Param #   \n",
      "=================================================================\n",
      " embedding (Embedding)       (None, None, 50)          5542800   \n",
      "                                                                 \n",
      " bidirectional (Bidirectiona  (None, 128)              58880     \n",
      " l)                                                              \n",
      "                                                                 \n",
      " dense (Dense)               (None, 1)                 129       \n",
      "                                                                 \n",
      "=================================================================\n",
      "Total params: 5,601,809\n",
      "Trainable params: 5,601,809\n",
      "Non-trainable params: 0\n",
      "_________________________________________________________________\n"
     ]
    }
   ],
   "source": [
    "# length of vocas in chars\n",
    "voca_size=encoder.vocab_size\n",
    "\n",
    "# number of RNN units\n",
    "rnn_units=64\n",
    "\n",
    "# batch size\n",
    "batch_size=100\n",
    "\n",
    "model=LSTM_model(\n",
    "    voca_size=voca_size,\n",
    "    embedding_dim=embedding_dim,\n",
    "    rnn_units=rnn_units,\n",
    "    batch_size=batch_size,\n",
    "    train_emb=True)\n",
    "\n",
    "model.summary()"
   ]
  },
  {
   "cell_type": "code",
   "execution_count": 8,
   "id": "d678202a",
   "metadata": {
    "scrolled": true
   },
   "outputs": [
    {
     "name": "stdout",
     "output_type": "stream",
     "text": [
      "Epoch 1/20\n",
      "698/700 [============================>.] - ETA: 0s - loss: 0.4824 - accuracy: 0.7765 - precision: 0.7780 - recall: 0.6336\n",
      "Epoch 00001: val_loss improved from inf to 0.34502, saving model to model_param\\GloVe_fine-tuning.h5\n",
      "700/700 [==============================] - 89s 113ms/step - loss: 0.4819 - accuracy: 0.7768 - precision: 0.7783 - recall: 0.6341 - val_loss: 0.3450 - val_accuracy: 0.8655 - val_precision: 0.8635 - val_recall: 0.8051\n",
      "Epoch 2/20\n",
      "700/700 [==============================] - ETA: 0s - loss: 0.2826 - accuracy: 0.8941 - precision: 0.9205 - recall: 0.8107\n",
      "Epoch 00002: val_loss improved from 0.34502 to 0.23804, saving model to model_param\\GloVe_fine-tuning.h5\n",
      "700/700 [==============================] - 77s 110ms/step - loss: 0.2826 - accuracy: 0.8941 - precision: 0.9205 - recall: 0.8107 - val_loss: 0.2380 - val_accuracy: 0.9164 - val_precision: 0.9497 - val_recall: 0.8445\n",
      "Epoch 3/20\n",
      "700/700 [==============================] - ETA: 0s - loss: 0.2046 - accuracy: 0.9281 - precision: 0.9577 - recall: 0.8620\n",
      "Epoch 00003: val_loss improved from 0.23804 to 0.21229, saving model to model_param\\GloVe_fine-tuning.h5\n",
      "700/700 [==============================] - 78s 111ms/step - loss: 0.2046 - accuracy: 0.9281 - precision: 0.9577 - recall: 0.8620 - val_loss: 0.2123 - val_accuracy: 0.9281 - val_precision: 0.9765 - val_recall: 0.8483\n",
      "Epoch 4/20\n",
      "700/700 [==============================] - ETA: 0s - loss: 0.1705 - accuracy: 0.9408 - precision: 0.9660 - recall: 0.8864\n",
      "Epoch 00004: val_loss improved from 0.21229 to 0.20092, saving model to model_param\\GloVe_fine-tuning.h5\n",
      "700/700 [==============================] - 77s 109ms/step - loss: 0.1705 - accuracy: 0.9408 - precision: 0.9660 - recall: 0.8864 - val_loss: 0.2009 - val_accuracy: 0.9332 - val_precision: 0.9744 - val_recall: 0.8627\n",
      "Epoch 5/20\n",
      "698/700 [============================>.] - ETA: 0s - loss: 0.1465 - accuracy: 0.9494 - precision: 0.9707 - recall: 0.9034\n",
      "Epoch 00005: val_loss improved from 0.20092 to 0.19693, saving model to model_param\\GloVe_fine-tuning.h5\n",
      "700/700 [==============================] - 75s 108ms/step - loss: 0.1464 - accuracy: 0.9495 - precision: 0.9708 - recall: 0.9035 - val_loss: 0.1969 - val_accuracy: 0.9371 - val_precision: 0.9737 - val_recall: 0.8731\n",
      "Epoch 6/20\n",
      "700/700 [==============================] - ETA: 0s - loss: 0.1259 - accuracy: 0.9564 - precision: 0.9713 - recall: 0.9204\n",
      "Epoch 00006: val_loss improved from 0.19693 to 0.19175, saving model to model_param\\GloVe_fine-tuning.h5\n",
      "700/700 [==============================] - 76s 109ms/step - loss: 0.1259 - accuracy: 0.9564 - precision: 0.9713 - recall: 0.9204 - val_loss: 0.1917 - val_accuracy: 0.9384 - val_precision: 0.9653 - val_recall: 0.8843\n",
      "Epoch 7/20\n",
      "699/700 [============================>.] - ETA: 0s - loss: 0.1109 - accuracy: 0.9619 - precision: 0.9741 - recall: 0.9315\n",
      "Epoch 00007: val_loss improved from 0.19175 to 0.18965, saving model to model_param\\GloVe_fine-tuning.h5\n",
      "700/700 [==============================] - 80s 115ms/step - loss: 0.1108 - accuracy: 0.9620 - precision: 0.9742 - recall: 0.9315 - val_loss: 0.1896 - val_accuracy: 0.9379 - val_precision: 0.9590 - val_recall: 0.8892\n",
      "Epoch 8/20\n",
      "698/700 [============================>.] - ETA: 0s - loss: 0.0972 - accuracy: 0.9662 - precision: 0.9748 - recall: 0.9416\n",
      "Epoch 00008: val_loss did not improve from 0.18965\n",
      "700/700 [==============================] - 80s 114ms/step - loss: 0.0972 - accuracy: 0.9662 - precision: 0.9748 - recall: 0.9416 - val_loss: 0.2119 - val_accuracy: 0.9383 - val_precision: 0.9472 - val_recall: 0.9025\n",
      "Epoch 9/20\n",
      "699/700 [============================>.] - ETA: 0s - loss: 0.0871 - accuracy: 0.9690 - precision: 0.9755 - recall: 0.9478\n",
      "Epoch 00009: val_loss did not improve from 0.18965\n",
      "700/700 [==============================] - 76s 108ms/step - loss: 0.0872 - accuracy: 0.9690 - precision: 0.9755 - recall: 0.9478 - val_loss: 0.2215 - val_accuracy: 0.9375 - val_precision: 0.9400 - val_recall: 0.9082\n",
      "Epoch 10/20\n",
      "698/700 [============================>.] - ETA: 0s - loss: 0.0757 - accuracy: 0.9729 - precision: 0.9778 - recall: 0.9552\n",
      "Epoch 00010: val_loss did not improve from 0.18965\n",
      "700/700 [==============================] - 78s 111ms/step - loss: 0.0758 - accuracy: 0.9728 - precision: 0.9778 - recall: 0.9551 - val_loss: 0.2147 - val_accuracy: 0.9396 - val_precision: 0.9501 - val_recall: 0.9028\n",
      "Epoch 11/20\n",
      "699/700 [============================>.] - ETA: 0s - loss: 0.0692 - accuracy: 0.9753 - precision: 0.9794 - recall: 0.9596\n",
      "Epoch 00011: val_loss did not improve from 0.18965\n",
      "700/700 [==============================] - 78s 111ms/step - loss: 0.0693 - accuracy: 0.9753 - precision: 0.9794 - recall: 0.9596 - val_loss: 0.2229 - val_accuracy: 0.9375 - val_precision: 0.9376 - val_recall: 0.9109\n",
      "Epoch 12/20\n",
      "700/700 [==============================] - ETA: 0s - loss: 0.0613 - accuracy: 0.9772 - precision: 0.9800 - recall: 0.9638\n",
      "Epoch 00012: val_loss did not improve from 0.18965\n",
      "700/700 [==============================] - 77s 110ms/step - loss: 0.0613 - accuracy: 0.9772 - precision: 0.9800 - recall: 0.9638 - val_loss: 0.2353 - val_accuracy: 0.9376 - val_precision: 0.9356 - val_recall: 0.9135\n",
      "Epoch 13/20\n",
      "699/700 [============================>.] - ETA: 0s - loss: 0.0563 - accuracy: 0.9791 - precision: 0.9807 - recall: 0.9678\n",
      "Epoch 00013: val_loss did not improve from 0.18965\n",
      "700/700 [==============================] - 75s 108ms/step - loss: 0.0563 - accuracy: 0.9791 - precision: 0.9807 - recall: 0.9678 - val_loss: 0.2548 - val_accuracy: 0.9319 - val_precision: 0.9171 - val_recall: 0.9202\n",
      "Epoch 14/20\n",
      "698/700 [============================>.] - ETA: 0s - loss: 0.0498 - accuracy: 0.9816 - precision: 0.9826 - recall: 0.9722\n",
      "Epoch 00014: val_loss did not improve from 0.18965\n",
      "700/700 [==============================] - 75s 107ms/step - loss: 0.0497 - accuracy: 0.9816 - precision: 0.9826 - recall: 0.9722 - val_loss: 0.3018 - val_accuracy: 0.9409 - val_precision: 0.9482 - val_recall: 0.9082\n",
      "Epoch 15/20\n",
      "700/700 [==============================] - ETA: 0s - loss: 0.0461 - accuracy: 0.9833 - precision: 0.9836 - recall: 0.9753\n",
      "Epoch 00015: val_loss did not improve from 0.18965\n",
      "700/700 [==============================] - 81s 116ms/step - loss: 0.0461 - accuracy: 0.9833 - precision: 0.9836 - recall: 0.9753 - val_loss: 0.2787 - val_accuracy: 0.9359 - val_precision: 0.9246 - val_recall: 0.9216\n",
      "Epoch 16/20\n",
      "700/700 [==============================] - ETA: 0s - loss: 0.0434 - accuracy: 0.9833 - precision: 0.9833 - recall: 0.9758\n",
      "Epoch 00016: val_loss did not improve from 0.18965\n",
      "700/700 [==============================] - 76s 109ms/step - loss: 0.0434 - accuracy: 0.9833 - precision: 0.9833 - recall: 0.9758 - val_loss: 0.3115 - val_accuracy: 0.9365 - val_precision: 0.9289 - val_recall: 0.9183\n",
      "Epoch 17/20\n",
      "699/700 [============================>.] - ETA: 0s - loss: 0.0387 - accuracy: 0.9856 - precision: 0.9855 - recall: 0.9792\n",
      "Epoch 00017: val_loss did not improve from 0.18965\n",
      "700/700 [==============================] - 74s 107ms/step - loss: 0.0387 - accuracy: 0.9856 - precision: 0.9855 - recall: 0.9792 - val_loss: 0.2934 - val_accuracy: 0.9369 - val_precision: 0.9271 - val_recall: 0.9213\n",
      "Epoch 18/20\n",
      "699/700 [============================>.] - ETA: 0s - loss: 0.0364 - accuracy: 0.9858 - precision: 0.9849 - recall: 0.9803\n",
      "Epoch 00018: val_loss did not improve from 0.18965\n",
      "700/700 [==============================] - 76s 108ms/step - loss: 0.0363 - accuracy: 0.9858 - precision: 0.9849 - recall: 0.9803 - val_loss: 0.3038 - val_accuracy: 0.9385 - val_precision: 0.9353 - val_recall: 0.9160\n",
      "Epoch 19/20\n",
      "700/700 [==============================] - ETA: 0s - loss: 0.0349 - accuracy: 0.9864 - precision: 0.9860 - recall: 0.9807\n",
      "Epoch 00019: val_loss did not improve from 0.18965\n",
      "700/700 [==============================] - 76s 109ms/step - loss: 0.0349 - accuracy: 0.9864 - precision: 0.9860 - recall: 0.9807 - val_loss: 0.3240 - val_accuracy: 0.9342 - val_precision: 0.9218 - val_recall: 0.9205\n",
      "Epoch 20/20\n",
      "699/700 [============================>.] - ETA: 0s - loss: 0.0321 - accuracy: 0.9868 - precision: 0.9858 - recall: 0.9818\n",
      "Epoch 00020: val_loss did not improve from 0.18965\n",
      "700/700 [==============================] - 80s 114ms/step - loss: 0.0321 - accuracy: 0.9868 - precision: 0.9858 - recall: 0.9818 - val_loss: 0.3592 - val_accuracy: 0.9383 - val_precision: 0.9324 - val_recall: 0.9187\n"
     ]
    }
   ],
   "source": [
    "model.compile(loss='binary_crossentropy',\n",
    "              optimizer='adam',\n",
    "              metrics=['accuracy','Precision','Recall'])\n",
    "\n",
    "mc=ModelCheckpoint(\n",
    "    'model_param/GloVe_fine-tuning.h5',\n",
    "    monitor='val_loss',\n",
    "    verbose=1,\n",
    "    save_best_only=True,\n",
    "    save_weights_only=True,\n",
    "    mode='auto'\n",
    ")\n",
    "\n",
    "num_epochs=20\n",
    "\n",
    "history=model.fit(train_text,train_label,\n",
    "                  epochs=num_epochs,batch_size=batch_size,\n",
    "                  callbacks=[mc],\n",
    "                  validation_data=(val_text,val_label))"
   ]
  },
  {
   "cell_type": "code",
   "execution_count": 9,
   "id": "5f5db0c5",
   "metadata": {},
   "outputs": [
    {
     "data": {
      "image/png": "[encoded data removed]",
      "text/plain": [
       "<Figure size 432x288 with 1 Axes>"
      ]
     },
     "metadata": {
      "needs_background": "light"
     },
     "output_type": "display_data"
    }
   ],
   "source": [
    "plt.plot(np.arange(1,num_epochs+0.1,dtype=int),\n",
    "         history.history['accuracy'],label='train_acc')\n",
    "plt.plot(np.arange(1,num_epochs+0.1,dtype=int),\n",
    "         history.history['val_accuracy'],label='val_acc')\n",
    "plt.xlabel('epoch')\n",
    "plt.legend()\n",
    "plt.show()"
   ]
  },
  {
   "cell_type": "code",
   "execution_count": 10,
   "id": "a292870d",
   "metadata": {},
   "outputs": [
    {
     "data": {
      "image/png": "[encoded data removed]",
      "text/plain": [
       "<Figure size 432x288 with 1 Axes>"
      ]
     },
     "metadata": {
      "needs_background": "light"
     },
     "output_type": "display_data"
    }
   ],
   "source": [
    "plt.plot(np.arange(1,num_epochs+0.1,dtype=int),\n",
    "         history.history['loss'],label='train_loss')\n",
    "plt.plot(np.arange(1,num_epochs+0.1,dtype=int),\n",
    "         history.history['val_loss'],label='val_loss')\n",
    "plt.xlabel('epoch')\n",
    "plt.legend()\n",
    "plt.show()"
   ]
  },
  {
   "cell_type": "code",
   "execution_count": 11,
   "id": "edd3ee43",
   "metadata": {},
   "outputs": [],
   "source": [
    "# # save the model weights\n",
    "# model.save_weights('GloVe_fine-tuning')"
   ]
  },
  {
   "cell_type": "markdown",
   "id": "4d4cd837",
   "metadata": {},
   "source": [
    "# 3. Predictions and Evaluations"
   ]
  },
  {
   "cell_type": "code",
   "execution_count": 13,
   "id": "3375f359",
   "metadata": {},
   "outputs": [],
   "source": [
    "# length of vocas in chars\n",
    "voca_size=encoder.vocab_size\n",
    "\n",
    "# number of RNN units\n",
    "rnn_units=64\n",
    "\n",
    "# batch size\n",
    "batch_size=100\n",
    "\n",
    "trained_model=LSTM_model(\n",
    "    voca_size=voca_size,\n",
    "    embedding_dim=embedding_dim,\n",
    "    rnn_units=rnn_units,\n",
    "    batch_size=batch_size)\n",
    "\n",
    "# load the model weights\n",
    "trained_model.load_weights('model_param/GloVe_fine-tuning.h5')\n"
   ]
  },
  {
   "cell_type": "code",
   "execution_count": 14,
   "id": "736acd15",
   "metadata": {},
   "outputs": [],
   "source": [
    "# use the model to make prediction on the test set\n",
    "\n",
    "test_outputs=trained_model(test_text)\n",
    "test_pred=((test_outputs.numpy()>0.5)*1).flatten()\n"
   ]
  },
  {
   "cell_type": "code",
   "execution_count": 16,
   "id": "d21a0322",
   "metadata": {},
   "outputs": [
    {
     "name": "stdout",
     "output_type": "stream",
     "text": [
      "test_acc= 94.08666666666666 %\n"
     ]
    }
   ],
   "source": [
    "test_acc=sum(test_label==test_pred)/len(test_pred)\n",
    "print('test_acc=',test_acc*100,'%')"
   ]
  },
  {
   "cell_type": "code",
   "execution_count": null,
   "id": "b9fb2258",
   "metadata": {},
   "outputs": [],
   "source": []
  }
 ],
 "metadata": {
  "kernelspec": {
   "display_name": "Python 3",
   "language": "python",
   "name": "python3"
  },
  "language_info": {
   "codemirror_mode": {
    "name": "ipython",
    "version": 3
   },
   "file_extension": ".py",
   "mimetype": "text/x-python",
   "name": "python",
   "nbconvert_exporter": "python",
   "pygments_lexer": "ipython3",
   "version": "3.8.8"
  }
 },
 "nbformat": 4,
 "nbformat_minor": 5
}
