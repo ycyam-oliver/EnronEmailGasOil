{
 "cells": [
  {
   "cell_type": "code",
   "execution_count": 1,
   "id": "29054437",
   "metadata": {},
   "outputs": [],
   "source": [
    "import os\n",
    "import numpy as np\n",
    "import pandas as pd\n",
    "import re\n",
    "import nltk\n",
    "\n",
    "# from sklearn import metrics\n",
    "import matplotlib.pyplot as plt\n",
    "import seaborn as sns\n",
    "\n",
    "import tensorflow as tf\n",
    "import tensorflow_datasets as tfds\n",
    "from tensorflow.keras.preprocessing import sequence\n",
    "from sklearn import metrics\n",
    "\n",
    "from tensorflow.keras.callbacks import Callback, ModelCheckpoint\n",
    "from tensorflow.keras.callbacks import LearningRateScheduler\n"
   ]
  },
  {
   "cell_type": "code",
   "execution_count": 2,
   "id": "a12ea053",
   "metadata": {},
   "outputs": [],
   "source": [
    "# import train/val/test data from the data exploration part\n",
    "\n",
    "data_prep=np.load('data_prep.npz',allow_pickle=True)\n",
    "train_text,train_label=data_prep['train_text'],data_prep['train_label']\n",
    "val_text,val_label=data_prep['val_text'],data_prep['val_label']\n",
    "test_text,test_label=data_prep['test_text'],data_prep['test_label']\n",
    "voca_set=data_prep['voca_set'].tolist()\n",
    "\n",
    "# define encoder and tokenizer\n",
    "tokenizer=tfds.deprecated.text.Tokenizer()\n",
    "encoder=tfds.deprecated.text.TokenTextEncoder(\n",
    "    voca_set,tokenizer=tokenizer)"
   ]
  },
  {
   "cell_type": "markdown",
   "id": "40f18b2c",
   "metadata": {},
   "source": [
    "# 1. Pre-trained GloVe embeddings"
   ]
  },
  {
   "cell_type": "code",
   "execution_count": 3,
   "id": "8794cc40",
   "metadata": {},
   "outputs": [
    {
     "name": "stdout",
     "output_type": "stream",
     "text": [
      "Dictionary size is  400000\n"
     ]
    }
   ],
   "source": [
    "# load the GloVe embeddings\n",
    "\n",
    "dict_w2v={}\n",
    "\n",
    "with open('GloVe_dict/glove.6B/glove.6B.50d.txt','r',encoding=\"utf8\") as file:\n",
    "    for line in file:\n",
    "        tokens=line.split()\n",
    "        word=tokens[0]\n",
    "        vector=np.array(tokens[1:],dtype=np.float32)\n",
    "        \n",
    "        if vector.shape[0]==50:\n",
    "            dict_w2v[word]=vector\n",
    "        else:\n",
    "            print('Error with '+word)\n",
    "print('Dictionary size is ', len(dict_w2v))"
   ]
  },
  {
   "cell_type": "code",
   "execution_count": 4,
   "id": "9836652a",
   "metadata": {},
   "outputs": [],
   "source": [
    "# a matrix relating the vocas in our text set to the GloVe dict\n",
    "\n",
    "embedding_dim=50\n",
    "\n",
    "embedding_matrix=np.zeros((encoder.vocab_size,embedding_dim))\n",
    "\n",
    "for word in encoder.tokens:\n",
    "    embedding_vec=dict_w2v.get(word)\n",
    "    \n",
    "    if embedding_vec is not None:\n",
    "        tkn_id=encoder.encode(word)[0]\n",
    "        embedding_matrix[tkn_id]=embedding_vec\n",
    "        "
   ]
  },
  {
   "cell_type": "markdown",
   "id": "bfc31d1b",
   "metadata": {},
   "source": [
    "# 2. Fine-tuning Model (BiLSTM)"
   ]
  },
  {
   "cell_type": "code",
   "execution_count": 5,
   "id": "7917c697",
   "metadata": {},
   "outputs": [],
   "source": [
    "def LSTM_model(\n",
    "    voca_size,embedding_dim,rnn_units,batch_size,train_emb=False):\n",
    "    \n",
    "    model=tf.keras.Sequential([\n",
    "        tf.keras.layers.Embedding(voca_size,embedding_dim,\n",
    "                                  mask_zero=True,\n",
    "                                  weights=[embedding_matrix],\n",
    "                                  trainable=train_emb),\n",
    "        tf.keras.layers.Bidirectional(\n",
    "            tf.keras.layers.LSTM(rnn_units,dropout=0.25)),\n",
    "        tf.keras.layers.Dense(1,activation='sigmoid')\n",
    "    ])\n",
    "    return model\n",
    "    "
   ]
  },
  {
   "cell_type": "code",
   "execution_count": 6,
   "id": "c503cfd6",
   "metadata": {},
   "outputs": [
    {
     "name": "stdout",
     "output_type": "stream",
     "text": [
      "Model: \"sequential\"\n",
      "_________________________________________________________________\n",
      " Layer (type)                Output Shape              Param #   \n",
      "=================================================================\n",
      " embedding (Embedding)       (None, None, 50)          5542800   \n",
      "                                                                 \n",
      " bidirectional (Bidirectiona  (None, 128)              58880     \n",
      " l)                                                              \n",
      "                                                                 \n",
      " dense (Dense)               (None, 1)                 129       \n",
      "                                                                 \n",
      "=================================================================\n",
      "Total params: 5,601,809\n",
      "Trainable params: 5,601,809\n",
      "Non-trainable params: 0\n",
      "_________________________________________________________________\n"
     ]
    }
   ],
   "source": [
    "# length of vocas in chars\n",
    "voca_size=encoder.vocab_size\n",
    "\n",
    "# number of RNN units\n",
    "rnn_units=64\n",
    "\n",
    "# batch size\n",
    "batch_size=100\n",
    "\n",
    "model=LSTM_model(\n",
    "    voca_size=voca_size,\n",
    "    embedding_dim=embedding_dim,\n",
    "    rnn_units=rnn_units,\n",
    "    batch_size=batch_size,\n",
    "    train_emb=True)\n",
    "\n",
    "model.summary()"
   ]
  },
  {
   "cell_type": "code",
   "execution_count": 7,
   "id": "d678202a",
   "metadata": {
    "scrolled": true
   },
   "outputs": [
    {
     "name": "stdout",
     "output_type": "stream",
     "text": [
      "Epoch 1/20\n",
      "699/700 [============================>.] - ETA: 0s - loss: 0.4551 - accuracy: 0.7896 - precision: 0.7952 - recall: 0.6532\n",
      "Epoch 00001: val_loss improved from inf to 0.28296, saving model to model_param\\GloVe_fine-tuning.h5\n",
      "700/700 [==============================] - 338s 453ms/step - loss: 0.4548 - accuracy: 0.7897 - precision: 0.7954 - recall: 0.6533 - val_loss: 0.2830 - val_accuracy: 0.8925 - val_precision: 0.9453 - val_recall: 0.7883\n",
      "Epoch 2/20\n",
      "698/700 [============================>.] - ETA: 0s - loss: 0.2380 - accuracy: 0.9144 - precision: 0.9422 - recall: 0.8422\n",
      "Epoch 00002: val_loss improved from 0.28296 to 0.21608, saving model to model_param\\GloVe_fine-tuning.h5\n",
      "700/700 [==============================] - 275s 393ms/step - loss: 0.2378 - accuracy: 0.9145 - precision: 0.9422 - recall: 0.8423 - val_loss: 0.2161 - val_accuracy: 0.9289 - val_precision: 0.9712 - val_recall: 0.8552\n",
      "Epoch 3/20\n",
      "700/700 [==============================] - ETA: 0s - loss: 0.1822 - accuracy: 0.9375 - precision: 0.9652 - recall: 0.8786\n",
      "Epoch 00003: val_loss improved from 0.21608 to 0.19522, saving model to model_param\\GloVe_fine-tuning.h5\n",
      "700/700 [==============================] - 259s 370ms/step - loss: 0.1822 - accuracy: 0.9375 - precision: 0.9652 - recall: 0.8786 - val_loss: 0.1952 - val_accuracy: 0.9331 - val_precision: 0.9647 - val_recall: 0.8718\n",
      "Epoch 4/20\n",
      "700/700 [==============================] - ETA: 0s - loss: 0.1546 - accuracy: 0.9476 - precision: 0.9698 - recall: 0.8997\n",
      "Epoch 00004: val_loss improved from 0.19522 to 0.19224, saving model to model_param\\GloVe_fine-tuning.h5\n",
      "700/700 [==============================] - 261s 373ms/step - loss: 0.1546 - accuracy: 0.9476 - precision: 0.9698 - recall: 0.8997 - val_loss: 0.1922 - val_accuracy: 0.9357 - val_precision: 0.9531 - val_recall: 0.8898\n",
      "Epoch 5/20\n",
      "698/700 [============================>.] - ETA: 0s - loss: 0.1344 - accuracy: 0.9543 - precision: 0.9713 - recall: 0.9151\n",
      "Epoch 00005: val_loss improved from 0.19224 to 0.19193, saving model to model_param\\GloVe_fine-tuning.h5\n",
      "700/700 [==============================] - 259s 370ms/step - loss: 0.1344 - accuracy: 0.9542 - precision: 0.9714 - recall: 0.9149 - val_loss: 0.1919 - val_accuracy: 0.9387 - val_precision: 0.9734 - val_recall: 0.8771\n",
      "Epoch 6/20\n",
      "700/700 [==============================] - ETA: 0s - loss: 0.1154 - accuracy: 0.9610 - precision: 0.9743 - recall: 0.9290\n",
      "Epoch 00006: val_loss did not improve from 0.19193\n",
      "700/700 [==============================] - 249s 357ms/step - loss: 0.1154 - accuracy: 0.9610 - precision: 0.9743 - recall: 0.9290 - val_loss: 0.1990 - val_accuracy: 0.9403 - val_precision: 0.9653 - val_recall: 0.8890\n",
      "Epoch 7/20\n",
      "699/700 [============================>.] - ETA: 0s - loss: 0.1025 - accuracy: 0.9642 - precision: 0.9738 - recall: 0.9376\n",
      "Epoch 00007: val_loss did not improve from 0.19193\n",
      "700/700 [==============================] - 266s 381ms/step - loss: 0.1025 - accuracy: 0.9642 - precision: 0.9738 - recall: 0.9376 - val_loss: 0.2081 - val_accuracy: 0.9406 - val_precision: 0.9587 - val_recall: 0.8964\n",
      "Epoch 8/20\n",
      "698/700 [============================>.] - ETA: 0s - loss: 0.0908 - accuracy: 0.9686 - precision: 0.9774 - recall: 0.9451\n",
      "Epoch 00008: val_loss did not improve from 0.19193\n",
      "700/700 [==============================] - 271s 387ms/step - loss: 0.0909 - accuracy: 0.9687 - precision: 0.9773 - recall: 0.9452 - val_loss: 0.2260 - val_accuracy: 0.9405 - val_precision: 0.9530 - val_recall: 0.9021\n",
      "Epoch 9/20\n",
      "699/700 [============================>.] - ETA: 0s - loss: 0.0782 - accuracy: 0.9723 - precision: 0.9779 - recall: 0.9537\n",
      "Epoch 00009: val_loss did not improve from 0.19193\n",
      "700/700 [==============================] - 150s 215ms/step - loss: 0.0781 - accuracy: 0.9723 - precision: 0.9779 - recall: 0.9538 - val_loss: 0.2278 - val_accuracy: 0.9400 - val_precision: 0.9529 - val_recall: 0.9009\n",
      "Epoch 10/20\n",
      "700/700 [==============================] - ETA: 0s - loss: 0.0720 - accuracy: 0.9741 - precision: 0.9782 - recall: 0.9580\n",
      "Epoch 00010: val_loss did not improve from 0.19193\n",
      "700/700 [==============================] - 80s 115ms/step - loss: 0.0720 - accuracy: 0.9741 - precision: 0.9782 - recall: 0.9580 - val_loss: 0.2295 - val_accuracy: 0.9386 - val_precision: 0.9406 - val_recall: 0.9104\n",
      "Epoch 11/20\n",
      "699/700 [============================>.] - ETA: 0s - loss: 0.0631 - accuracy: 0.9769 - precision: 0.9800 - recall: 0.9631\n",
      "Epoch 00011: val_loss did not improve from 0.19193\n",
      "700/700 [==============================] - 75s 108ms/step - loss: 0.0630 - accuracy: 0.9769 - precision: 0.9800 - recall: 0.9631 - val_loss: 0.2623 - val_accuracy: 0.9361 - val_precision: 0.9318 - val_recall: 0.9140\n",
      "Epoch 12/20\n",
      "699/700 [============================>.] - ETA: 0s - loss: 0.0567 - accuracy: 0.9791 - precision: 0.9804 - recall: 0.9681\n",
      "Epoch 00012: val_loss did not improve from 0.19193\n",
      "700/700 [==============================] - 76s 109ms/step - loss: 0.0567 - accuracy: 0.9791 - precision: 0.9804 - recall: 0.9681 - val_loss: 0.2566 - val_accuracy: 0.9363 - val_precision: 0.9334 - val_recall: 0.9125\n",
      "Epoch 13/20\n",
      "698/700 [============================>.] - ETA: 0s - loss: 0.0522 - accuracy: 0.9808 - precision: 0.9825 - recall: 0.9703\n",
      "Epoch 00013: val_loss did not improve from 0.19193\n",
      "700/700 [==============================] - 77s 109ms/step - loss: 0.0522 - accuracy: 0.9808 - precision: 0.9825 - recall: 0.9703 - val_loss: 0.2613 - val_accuracy: 0.9352 - val_precision: 0.9246 - val_recall: 0.9199\n",
      "Epoch 14/20\n",
      "699/700 [============================>.] - ETA: 0s - loss: 0.0454 - accuracy: 0.9828 - precision: 0.9833 - recall: 0.9745\n",
      "Epoch 00014: val_loss did not improve from 0.19193\n",
      "700/700 [==============================] - 79s 112ms/step - loss: 0.0454 - accuracy: 0.9828 - precision: 0.9833 - recall: 0.9745 - val_loss: 0.2851 - val_accuracy: 0.9385 - val_precision: 0.9359 - val_recall: 0.9154\n",
      "Epoch 15/20\n",
      "698/700 [============================>.] - ETA: 0s - loss: 0.0420 - accuracy: 0.9842 - precision: 0.9845 - recall: 0.9766\n",
      "Epoch 00015: val_loss did not improve from 0.19193\n",
      "700/700 [==============================] - 76s 108ms/step - loss: 0.0421 - accuracy: 0.9842 - precision: 0.9845 - recall: 0.9766 - val_loss: 0.2915 - val_accuracy: 0.9382 - val_precision: 0.9350 - val_recall: 0.9157\n",
      "Epoch 16/20\n",
      "699/700 [============================>.] - ETA: 0s - loss: 0.0384 - accuracy: 0.9853 - precision: 0.9851 - recall: 0.9789\n",
      "Epoch 00016: val_loss did not improve from 0.19193\n",
      "700/700 [==============================] - 78s 111ms/step - loss: 0.0384 - accuracy: 0.9853 - precision: 0.9851 - recall: 0.9789 - val_loss: 0.3093 - val_accuracy: 0.9374 - val_precision: 0.9364 - val_recall: 0.9120\n",
      "Epoch 17/20\n",
      "700/700 [==============================] - ETA: 0s - loss: 0.0360 - accuracy: 0.9857 - precision: 0.9843 - recall: 0.9806\n",
      "Epoch 00017: val_loss did not improve from 0.19193\n",
      "700/700 [==============================] - 76s 108ms/step - loss: 0.0360 - accuracy: 0.9857 - precision: 0.9843 - recall: 0.9806 - val_loss: 0.3104 - val_accuracy: 0.9321 - val_precision: 0.9199 - val_recall: 0.9173\n",
      "Epoch 18/20\n",
      "700/700 [==============================] - ETA: 0s - loss: 0.0341 - accuracy: 0.9864 - precision: 0.9859 - recall: 0.9807\n",
      "Epoch 00018: val_loss did not improve from 0.19193\n",
      "700/700 [==============================] - 78s 111ms/step - loss: 0.0341 - accuracy: 0.9864 - precision: 0.9859 - recall: 0.9807 - val_loss: 0.3090 - val_accuracy: 0.9367 - val_precision: 0.9294 - val_recall: 0.9183\n",
      "Epoch 19/20\n",
      "700/700 [==============================] - ETA: 0s - loss: 0.0316 - accuracy: 0.9875 - precision: 0.9868 - recall: 0.9826\n",
      "Epoch 00019: val_loss did not improve from 0.19193\n",
      "700/700 [==============================] - 77s 111ms/step - loss: 0.0316 - accuracy: 0.9875 - precision: 0.9868 - recall: 0.9826 - val_loss: 0.3442 - val_accuracy: 0.9373 - val_precision: 0.9324 - val_recall: 0.9163\n",
      "Epoch 20/20\n",
      "700/700 [==============================] - ETA: 0s - loss: 0.0304 - accuracy: 0.9877 - precision: 0.9863 - recall: 0.9834\n",
      "Epoch 00020: val_loss did not improve from 0.19193\n",
      "700/700 [==============================] - 75s 108ms/step - loss: 0.0304 - accuracy: 0.9877 - precision: 0.9863 - recall: 0.9834 - val_loss: 0.3529 - val_accuracy: 0.9373 - val_precision: 0.9345 - val_recall: 0.9138\n"
     ]
    }
   ],
   "source": [
    "model.compile(loss='binary_crossentropy',\n",
    "              optimizer='adam',\n",
    "              metrics=['accuracy','Precision','Recall'])\n",
    "\n",
    "mc=ModelCheckpoint(\n",
    "    'model_param/GloVe_fine-tuning.h5',\n",
    "    monitor='val_loss',\n",
    "    verbose=1,\n",
    "    save_best_only=True,\n",
    "    save_weights_only=True,\n",
    "    mode='auto'\n",
    ")\n",
    "\n",
    "num_epochs=20\n",
    "\n",
    "history=model.fit(train_text,train_label,\n",
    "                  epochs=num_epochs,batch_size=batch_size,\n",
    "                  callbacks=[mc],\n",
    "                  validation_data=(val_text,val_label))"
   ]
  },
  {
   "cell_type": "code",
   "execution_count": 8,
   "id": "5f5db0c5",
   "metadata": {},
   "outputs": [
    {
     "data": {
      "image/png": "[encoded data removed]",
      "text/plain": [
       "<Figure size 432x288 with 1 Axes>"
      ]
     },
     "metadata": {
      "needs_background": "light"
     },
     "output_type": "display_data"
    }
   ],
   "source": [
    "plt.plot(np.arange(1,num_epochs+0.1,dtype=int),\n",
    "         history.history['accuracy'],label='train_acc')\n",
    "plt.plot(np.arange(1,num_epochs+0.1,dtype=int),\n",
    "         history.history['val_accuracy'],label='val_acc')\n",
    "plt.xlabel('epoch')\n",
    "plt.legend()\n",
    "plt.show()"
   ]
  },
  {
   "cell_type": "code",
   "execution_count": 18,
   "id": "a292870d",
   "metadata": {},
   "outputs": [
    {
     "data": {
      "image/png": "[encoded data removed]",
      "text/plain": [
       "<Figure size 432x288 with 1 Axes>"
      ]
     },
     "metadata": {
      "needs_background": "light"
     },
     "output_type": "display_data"
    }
   ],
   "source": [
    "plt.plot(np.arange(1,num_epochs+0.1,dtype=int),\n",
    "         history.history['loss'],label='train_loss')\n",
    "plt.plot(np.arange(1,num_epochs+0.1,dtype=int),\n",
    "         history.history['val_loss'],label='val_loss')\n",
    "plt.xlabel('epoch')\n",
    "plt.legend()\n",
    "plt.show()"
   ]
  },
  {
   "cell_type": "code",
   "execution_count": null,
   "id": "edd3ee43",
   "metadata": {},
   "outputs": [],
   "source": [
    "# # save the model weights\n",
    "# model.save_weights('GloVe_fine-tuning')"
   ]
  },
  {
   "cell_type": "markdown",
   "id": "4d4cd837",
   "metadata": {},
   "source": [
    "# 3. Predictions and Evaluations"
   ]
  },
  {
   "cell_type": "code",
   "execution_count": 19,
   "id": "3375f359",
   "metadata": {},
   "outputs": [],
   "source": [
    "# length of vocas in chars\n",
    "voca_size=encoder.vocab_size\n",
    "\n",
    "# number of RNN units\n",
    "rnn_units=64\n",
    "\n",
    "# batch size\n",
    "batch_size=100\n",
    "\n",
    "trained_model=LSTM_model(\n",
    "    voca_size=voca_size,\n",
    "    embedding_dim=embedding_dim,\n",
    "    rnn_units=rnn_units,\n",
    "    batch_size=batch_size)\n",
    "\n",
    "# load the model weights\n",
    "trained_model.load_weights('GloVe_fine-tuning.h5')\n"
   ]
  },
  {
   "cell_type": "code",
   "execution_count": 20,
   "id": "736acd15",
   "metadata": {},
   "outputs": [],
   "source": [
    "# use the model to make prediction on the test set\n",
    "\n",
    "test_outputs=trained_model(test_text)\n",
    "test_pred=((test_outputs.numpy()>0.5)*1).flatten()\n"
   ]
  },
  {
   "cell_type": "code",
   "execution_count": 21,
   "id": "d21a0322",
   "metadata": {},
   "outputs": [
    {
     "name": "stdout",
     "output_type": "stream",
     "text": [
      "test_acc= 92.38666666666666 %\n"
     ]
    }
   ],
   "source": [
    "test_acc=sum(test_label.numpy()==test_pred)/len(test_pred)\n",
    "print('test_acc=',test_acc*100,'%')"
   ]
  },
  {
   "cell_type": "code",
   "execution_count": null,
   "id": "b9fb2258",
   "metadata": {},
   "outputs": [],
   "source": []
  }
 ],
 "metadata": {
  "kernelspec": {
   "display_name": "Python 3",
   "language": "python",
   "name": "python3"
  },
  "language_info": {
   "codemirror_mode": {
    "name": "ipython",
    "version": 3
   },
   "file_extension": ".py",
   "mimetype": "text/x-python",
   "name": "python",
   "nbconvert_exporter": "python",
   "pygments_lexer": "ipython3",
   "version": "3.8.8"
  }
 },
 "nbformat": 4,
 "nbformat_minor": 5
}
